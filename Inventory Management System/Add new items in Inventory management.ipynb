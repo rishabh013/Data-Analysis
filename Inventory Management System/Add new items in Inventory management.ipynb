{
 "cells": [
  {
   "cell_type": "markdown",
   "id": "bc4d1958",
   "metadata": {},
   "source": [
    "## Invenory management sysem"
   ]
  },
  {
   "cell_type": "code",
   "execution_count": 1,
   "id": "76fda0c2",
   "metadata": {},
   "outputs": [],
   "source": [
    "File_record = { 1112401 : {\"name\": \"Paper plates\",        \"Price\": 50 , \"Qty\": 150, \"Size\": \"Large\" ,\"cgpa\" : 7},\n",
    "                1112402 : {\"name\": \"ThemeHouse plates\",   \"Price\": 195 , \"Qty\": 110, \"Size\": \"Medium\" ,\"cgpa\" : 8},\n",
    "                1112403 : {\"name\": \"ThemeHouse plates\",   \"Price\": 185 , \"Qty\": 150,\"Size\": \"Large\" ,\"cgpa\" : 7.4},\n",
    "                1112404 : {\"name\": \"Silver Paper plates\", \"Price\": 206 , \"Qty\": 110, \"Size\": \"Large\" ,\"cgpa\" : 8},\n",
    "                1112405 : {\"name\": \"Disposable silver Paper plates\", \"Price\": 299 ,\"Qty\": 150, \"Size\": \"Large\" ,\"cgpa\" : 8},\n",
    "                1112501 : {\"name\": \"Black Marker\",     \"Price\": 50 , \"Qty\": 150, \"Size\": \"Small\" ,\"cgpa\" : 8}, \n",
    "                1112502 : {\"name\": \"Green Marker\",     \"Price\": 50 , \"Qty\": 120, \"Size\": \"Small\" ,\"cgpa\" : 7.4},\n",
    "                1112503 : {\"name\": \"Red Marker\",       \"Price\": 50 , \"Qty\": 150, \"Size\": \"Small\" ,\"cgpa\" : 9},\n",
    "                1112504 : {\"name\": \"Blue Marker\",      \"Price\": 50 , \"Qty\": 120, \"Size\": \"Small\" ,\"cgpa\" : 8},\n",
    "                1112505 : {\"name\": \"Highliter Marker\", \"Price\": 50 , \"Qty\": 150, \"Size\": \"Small\" ,\"cgpa\" : 8}}\n",
    "           "
   ]
  },
  {
   "cell_type": "code",
   "execution_count": 2,
   "id": "66a595ab",
   "metadata": {},
   "outputs": [
    {
     "data": {
      "text/plain": [
       "'{\"1112401\": {\"name\": \"Paper plates\", \"Price\": 50, \"Qty\": 150, \"Size\": \"Large\", \"cgpa\": 7}, \"1112402\": {\"name\": \"ThemeHouse plates\", \"Price\": 195, \"Qty\": 110, \"Size\": \"Medium\", \"cgpa\": 8}, \"1112403\": {\"name\": \"ThemeHouse plates\", \"Price\": 185, \"Qty\": 150, \"Size\": \"Large\", \"cgpa\": 7.4}, \"1112404\": {\"name\": \"Silver Paper plates\", \"Price\": 206, \"Qty\": 110, \"Size\": \"Large\", \"cgpa\": 8}, \"1112405\": {\"name\": \"Disposable silver Paper plates\", \"Price\": 299, \"Qty\": 150, \"Size\": \"Large\", \"cgpa\": 8}, \"1112501\": {\"name\": \"Black Marker\", \"Price\": 50, \"Qty\": 150, \"Size\": \"Small\", \"cgpa\": 8}, \"1112502\": {\"name\": \"Green Marker\", \"Price\": 50, \"Qty\": 120, \"Size\": \"Small\", \"cgpa\": 7.4}, \"1112503\": {\"name\": \"Red Marker\", \"Price\": 50, \"Qty\": 150, \"Size\": \"Small\", \"cgpa\": 9}, \"1112504\": {\"name\": \"Blue Marker\", \"Price\": 50, \"Qty\": 120, \"Size\": \"Small\", \"cgpa\": 8}, \"1112505\": {\"name\": \"Highliter Marker\", \"Price\": 50, \"Qty\": 150, \"Size\": \"Small\", \"cgpa\": 8}}'"
      ]
     },
     "execution_count": 2,
     "metadata": {},
     "output_type": "execute_result"
    }
   ],
   "source": [
    "import json\n",
    "data = json.dumps(File_record)  # convert dic to str\n",
    "data "
   ]
  },
  {
   "cell_type": "code",
   "execution_count": 3,
   "id": "f7dd35fc",
   "metadata": {},
   "outputs": [],
   "source": [
    "fd = open(\"File_record.json\", 'w')\n",
    "fd.write(data)\n",
    "fd.close()"
   ]
  },
  {
   "cell_type": "code",
   "execution_count": 4,
   "id": "796925a5",
   "metadata": {},
   "outputs": [],
   "source": [
    "fd = open(\"File_record.json\",'r')\n",
    "new_data = fd.read()\n",
    "fd.close()"
   ]
  },
  {
   "cell_type": "code",
   "execution_count": 5,
   "id": "a4158f67",
   "metadata": {},
   "outputs": [
    {
     "data": {
      "text/plain": [
       "'{\"1112401\": {\"name\": \"Paper plates\", \"Price\": 50, \"Qty\": 150, \"Size\": \"Large\", \"cgpa\": 7}, \"1112402\": {\"name\": \"ThemeHouse plates\", \"Price\": 195, \"Qty\": 110, \"Size\": \"Medium\", \"cgpa\": 8}, \"1112403\": {\"name\": \"ThemeHouse plates\", \"Price\": 185, \"Qty\": 150, \"Size\": \"Large\", \"cgpa\": 7.4}, \"1112404\": {\"name\": \"Silver Paper plates\", \"Price\": 206, \"Qty\": 110, \"Size\": \"Large\", \"cgpa\": 8}, \"1112405\": {\"name\": \"Disposable silver Paper plates\", \"Price\": 299, \"Qty\": 150, \"Size\": \"Large\", \"cgpa\": 8}, \"1112501\": {\"name\": \"Black Marker\", \"Price\": 50, \"Qty\": 150, \"Size\": \"Small\", \"cgpa\": 8}, \"1112502\": {\"name\": \"Green Marker\", \"Price\": 50, \"Qty\": 120, \"Size\": \"Small\", \"cgpa\": 7.4}, \"1112503\": {\"name\": \"Red Marker\", \"Price\": 50, \"Qty\": 150, \"Size\": \"Small\", \"cgpa\": 9}, \"1112504\": {\"name\": \"Blue Marker\", \"Price\": 50, \"Qty\": 120, \"Size\": \"Small\", \"cgpa\": 8}, \"1112505\": {\"name\": \"Highliter Marker\", \"Price\": 50, \"Qty\": 150, \"Size\": \"Small\", \"cgpa\": 8}}'"
      ]
     },
     "execution_count": 5,
     "metadata": {},
     "output_type": "execute_result"
    }
   ],
   "source": [
    "new_data"
   ]
  },
  {
   "cell_type": "markdown",
   "id": "f6ed2ae9",
   "metadata": {},
   "source": [
    "## Add new items into inventory"
   ]
  },
  {
   "cell_type": "code",
   "execution_count": 6,
   "id": "3d3414ba",
   "metadata": {},
   "outputs": [],
   "source": [
    "fd = open(\"File_record.json\",'r')\n",
    "new_data = fd.read()\n",
    "fd.close()\n",
    "\n",
    "record = json.loads(new_data)"
   ]
  },
  {
   "cell_type": "code",
   "execution_count": 7,
   "id": "92087047",
   "metadata": {},
   "outputs": [
    {
     "name": "stdout",
     "output_type": "stream",
     "text": [
      "Enter product id:979340\n",
      "Enter name:Iron\n",
      "Enter price:455\n",
      "Enter quantity:10\n",
      "Enter size:Medium\n",
      "Enter cgpa:9\n"
     ]
    }
   ],
   "source": [
    "prod_id = str(input(\"Enter product id:\"))\n",
    "name = str(input(\"Enter name:\"))\n",
    "Price = int(input(\"Enter price:\"))\n",
    "Qty = int(input(\"Enter quantity:\"))\n",
    "Size = str(input(\"Enter size:\"))\n",
    "cgpa = int(input(\"Enter cgpa:\"))\n",
    "\n",
    "record[prod_id] = {'name': name, 'Price': Price, 'Qty': Qty, 'Size': Size, 'cgpa':cgpa}\n",
    "\n",
    "js = json.dumps(record)\n",
    "\n",
    "fd = open(\"File_record.json\",'w')\n",
    "fd.write(js)\n",
    "fd.close()"
   ]
  },
  {
   "cell_type": "code",
   "execution_count": 8,
   "id": "7978e08a",
   "metadata": {},
   "outputs": [
    {
     "data": {
      "text/plain": [
       "{'1112401': {'name': 'Paper plates',\n",
       "  'Price': 50,\n",
       "  'Qty': 150,\n",
       "  'Size': 'Large',\n",
       "  'cgpa': 7},\n",
       " '1112402': {'name': 'ThemeHouse plates',\n",
       "  'Price': 195,\n",
       "  'Qty': 110,\n",
       "  'Size': 'Medium',\n",
       "  'cgpa': 8},\n",
       " '1112403': {'name': 'ThemeHouse plates',\n",
       "  'Price': 185,\n",
       "  'Qty': 150,\n",
       "  'Size': 'Large',\n",
       "  'cgpa': 7.4},\n",
       " '1112404': {'name': 'Silver Paper plates',\n",
       "  'Price': 206,\n",
       "  'Qty': 110,\n",
       "  'Size': 'Large',\n",
       "  'cgpa': 8},\n",
       " '1112405': {'name': 'Disposable silver Paper plates',\n",
       "  'Price': 299,\n",
       "  'Qty': 150,\n",
       "  'Size': 'Large',\n",
       "  'cgpa': 8},\n",
       " '1112501': {'name': 'Black Marker',\n",
       "  'Price': 50,\n",
       "  'Qty': 150,\n",
       "  'Size': 'Small',\n",
       "  'cgpa': 8},\n",
       " '1112502': {'name': 'Green Marker',\n",
       "  'Price': 50,\n",
       "  'Qty': 120,\n",
       "  'Size': 'Small',\n",
       "  'cgpa': 7.4},\n",
       " '1112503': {'name': 'Red Marker',\n",
       "  'Price': 50,\n",
       "  'Qty': 150,\n",
       "  'Size': 'Small',\n",
       "  'cgpa': 9},\n",
       " '1112504': {'name': 'Blue Marker',\n",
       "  'Price': 50,\n",
       "  'Qty': 120,\n",
       "  'Size': 'Small',\n",
       "  'cgpa': 8},\n",
       " '1112505': {'name': 'Highliter Marker',\n",
       "  'Price': 50,\n",
       "  'Qty': 150,\n",
       "  'Size': 'Small',\n",
       "  'cgpa': 8},\n",
       " '979340': {'name': 'Iron',\n",
       "  'Price': 455,\n",
       "  'Qty': 10,\n",
       "  'Size': 'Medium',\n",
       "  'cgpa': 9}}"
      ]
     },
     "execution_count": 8,
     "metadata": {},
     "output_type": "execute_result"
    }
   ],
   "source": [
    "record"
   ]
  },
  {
   "cell_type": "code",
   "execution_count": null,
   "id": "bd564bc4",
   "metadata": {},
   "outputs": [],
   "source": []
  }
 ],
 "metadata": {
  "kernelspec": {
   "display_name": "Python 3",
   "language": "python",
   "name": "python3"
  },
  "language_info": {
   "codemirror_mode": {
    "name": "ipython",
    "version": 3
   },
   "file_extension": ".py",
   "mimetype": "text/x-python",
   "name": "python",
   "nbconvert_exporter": "python",
   "pygments_lexer": "ipython3",
   "version": "3.8.8"
  }
 },
 "nbformat": 4,
 "nbformat_minor": 5
}
