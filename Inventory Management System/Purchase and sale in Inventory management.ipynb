{
 "cells": [
  {
   "cell_type": "markdown",
   "id": "6f3ff9c2",
   "metadata": {},
   "source": [
    "whole work perform in dictionary                                                   \n",
    "json.load(r)   # convert str to dic                                                           \n",
    "json.dumps()   # convert dic to str                                                     \n"
   ]
  },
  {
   "cell_type": "code",
   "execution_count": 1,
   "id": "e2cc0a8b",
   "metadata": {},
   "outputs": [],
   "source": [
    "import json\n",
    "import time\n",
    "\n",
    "# Loading Inventory and Converting it to Dictionary\n",
    "fd = open('File_record.json','r')\n",
    "t = fd.read()\n",
    "fd.close()\n",
    "\n",
    "sales = {}\n",
    "\n",
    "sales = json.dumps(sales)      # str to dct\n",
    "\n",
    "fd = open(\"sales.json\", 'w')\n",
    "fd.write(sales)\n",
    "fd.close()\n",
    "\n"
   ]
  },
  {
   "cell_type": "code",
   "execution_count": 2,
   "id": "e0d58ab5",
   "metadata": {},
   "outputs": [],
   "source": [
    "# Loading Inventory and Converting it to Dictionary\n",
    "fd = open('File_record.json','r')\n",
    "t = fd.read()\n",
    "fd.close()\n",
    "records = json.loads(t)\n",
    "\n",
    "# Loading Sales and Converting it to Dictionary\n",
    "fd = open(\"sales.json\", 'r')\n",
    "sl = fd.read()\n",
    "fd.close()\n",
    "sales = json.loads(sl)"
   ]
  },
  {
   "cell_type": "code",
   "execution_count": 3,
   "id": "6937ae0d",
   "metadata": {},
   "outputs": [
    {
     "data": {
      "text/plain": [
       "{'1112401': {'name': 'Paper plates',\n",
       "  'Price': 50,\n",
       "  'Qty': 150,\n",
       "  'Size': 'Large',\n",
       "  'cgpa': 7},\n",
       " '1112402': {'name': 'ThemeHouse plates',\n",
       "  'Price': 195,\n",
       "  'Qty': 110,\n",
       "  'Size': 'Medium',\n",
       "  'cgpa': 8},\n",
       " '1112403': {'name': 'ThemeHouse plates',\n",
       "  'Price': 185,\n",
       "  'Qty': 150,\n",
       "  'Size': 'Large',\n",
       "  'cgpa': 7.4},\n",
       " '1112404': {'name': 'Silver Paper plates',\n",
       "  'Price': 206,\n",
       "  'Qty': 110,\n",
       "  'Size': 'Large',\n",
       "  'cgpa': 8},\n",
       " '1112405': {'name': 'Disposable silver Paper plates',\n",
       "  'Price': 299,\n",
       "  'Qty': 150,\n",
       "  'Size': 'Large',\n",
       "  'cgpa': 8},\n",
       " '1112501': {'name': 'Black Marker',\n",
       "  'Price': 50,\n",
       "  'Qty': 150,\n",
       "  'Size': 'Small',\n",
       "  'cgpa': 8},\n",
       " '1112502': {'name': 'Green Marker',\n",
       "  'Price': 50,\n",
       "  'Qty': 120,\n",
       "  'Size': 'Small',\n",
       "  'cgpa': 7.4},\n",
       " '1112503': {'name': 'Red Marker',\n",
       "  'Price': 50,\n",
       "  'Qty': 150,\n",
       "  'Size': 'Small',\n",
       "  'cgpa': 9},\n",
       " '1112504': {'name': 'Blue Marker',\n",
       "  'Price': 50,\n",
       "  'Qty': 120,\n",
       "  'Size': 'Small',\n",
       "  'cgpa': 8},\n",
       " '1112505': {'name': 'Highliter Marker',\n",
       "  'Price': 50,\n",
       "  'Qty': 150,\n",
       "  'Size': 'Small',\n",
       "  'cgpa': 8},\n",
       " '979340': {'name': 'Iron',\n",
       "  'Price': 455,\n",
       "  'Qty': 10,\n",
       "  'Size': 'Medium',\n",
       "  'cgpa': 9}}"
      ]
     },
     "execution_count": 3,
     "metadata": {},
     "output_type": "execute_result"
    }
   ],
   "source": [
    "records"
   ]
  },
  {
   "cell_type": "code",
   "execution_count": 4,
   "id": "7e8a51dd",
   "metadata": {},
   "outputs": [
    {
     "name": "stdout",
     "output_type": "stream",
     "text": [
      "**********************************************\n",
      "1112401 {'name': 'Paper plates', 'Price': 50, 'Qty': 150, 'Size': 'Large', 'cgpa': 7}\n",
      "1112402 {'name': 'ThemeHouse plates', 'Price': 195, 'Qty': 110, 'Size': 'Medium', 'cgpa': 8}\n",
      "1112403 {'name': 'ThemeHouse plates', 'Price': 185, 'Qty': 150, 'Size': 'Large', 'cgpa': 7.4}\n",
      "1112404 {'name': 'Silver Paper plates', 'Price': 206, 'Qty': 110, 'Size': 'Large', 'cgpa': 8}\n",
      "1112405 {'name': 'Disposable silver Paper plates', 'Price': 299, 'Qty': 150, 'Size': 'Large', 'cgpa': 8}\n",
      "1112501 {'name': 'Black Marker', 'Price': 50, 'Qty': 150, 'Size': 'Small', 'cgpa': 8}\n",
      "1112502 {'name': 'Green Marker', 'Price': 50, 'Qty': 120, 'Size': 'Small', 'cgpa': 7.4}\n",
      "1112503 {'name': 'Red Marker', 'Price': 50, 'Qty': 150, 'Size': 'Small', 'cgpa': 9}\n",
      "1112504 {'name': 'Blue Marker', 'Price': 50, 'Qty': 120, 'Size': 'Small', 'cgpa': 8}\n",
      "1112505 {'name': 'Highliter Marker', 'Price': 50, 'Qty': 150, 'Size': 'Small', 'cgpa': 8}\n",
      "979340 {'name': 'Iron', 'Price': 455, 'Qty': 10, 'Size': 'Medium', 'cgpa': 9}\n",
      "******************************************\n",
      "\n",
      "Enter the product_Id: 979340\n",
      "Enter the quantity: 7\n",
      "Name: Iron\n",
      "Price: 455\n",
      "Quantity: 7\n",
      "------------------------------\n",
      "Billing Amount: 3185\n",
      "------------------------------\n",
      "Data Updated in Sales File!\n",
      "Data Updated in Inventory File!\n"
     ]
    }
   ],
   "source": [
    "# Displaying Menu\n",
    "print(\"**********************************************\")\n",
    "for i in records.keys():\n",
    "    print(i, records[i])\n",
    "\n",
    "print(\"******************************************\\n\")\n",
    "\n",
    "# Taking Input from User to Enter what he/she wants to purchase\n",
    "ui_prod  = str(input(\"Enter the product_Id: \"))\n",
    "ui_quant = int(input(\"Enter the quantity: \"))\n",
    "\n",
    "if (ui_prod in records.keys()):                                                     \n",
    "    if (records[ui_prod]['Qty'] >= ui_quant):                        # Checking If product Exists or not\n",
    "                                                                     # If I'm having enough Quantity\n",
    "        print(\"Name:\",records[ui_prod]['name'])\n",
    "        print(\"Price:\",records[ui_prod]['Price'])\n",
    "        print(\"Quantity:\", ui_quant)\n",
    "        print(\"------------------------------\")\n",
    "        print(\"Billing Amount:\", records[ui_prod]['Price'] * ui_quant)\n",
    "        \n",
    "        records[ui_prod]['Qty'] = records[ui_prod]['Qty'] - ui_quant        # Updating Inventory                  \n",
    "\n",
    "        sales[str(len(sales)+1)] = {'prod_id' : ui_prod,                    # Updating Transection          \n",
    "                                  \"time_pr\" :  time.ctime(), \n",
    "                                  'bill' : records[ui_prod]['Price'] * ui_quant, \n",
    "                                  'Qty' : ui_quant, \n",
    "                                  'Price' : records[ui_prod]['Price'], \n",
    "                                  'pr_name' : records[ui_prod]['name']}\n",
    "        \n",
    "    else:                                                                    # If I'm not having enough Quantity\n",
    "        print(\"Sorry, We are not having that much of quantity.\")\n",
    "        print(\"We're only having\",records[ui_prod]['Qty'],\"quantity.\")\n",
    "        print(\"Would you like to purchase or not (Y/N)\")\n",
    "        ch = str(input(\"Y/N\"))\n",
    "        \n",
    "        if (ch == \"Y\"):                                                  # If user wants to purchase the quantitry we're having\n",
    "            print(\"Name:\",records[ui_prod]['name'])\n",
    "            print(\"Price:\",records[ui_prod]['Price'])\n",
    "            print(\"Quantity:\", records[ui_prod]['Qty'])\n",
    "            print(\"------------------------------\")\n",
    "            print(\"Billing Amount:\", records[ui_prod]['Price'] * records[ui_prod]['Qty'])\n",
    "        \n",
    "            records[ui_prod]['Qty'] = 0                                 # Updating Inventory                       \n",
    "\n",
    "            sales[str(len(sales)+1)] = {'prod_id' : ui_prod,            # Updating Transection\n",
    "                    \n",
    "                                    \"time_pr\" :  time.ctime(), \n",
    "                                    'bill' : records[ui_prod]['Price'] * records[ui_prod]['Qty'], \n",
    "                                    'Qty' : records[ui_prod]['Qty'], \n",
    "                                    'Price' : records[ui_prod]['Price'], \n",
    "                                    'pr_name' : records[ui_prod]['name']}\n",
    "        else:                                                              # If user press anything Except Y      \n",
    "            print(\"Thankyou!\")\n",
    "        \n",
    "else:                                                                      # Product ID Doesn't exists                  \n",
    "    print(\"------------------------------\")\n",
    "    print(\"Product doesn't exist!\")\n",
    "    print(\"Please enter a valid product id\")\n",
    "    print(\"------------------------------\")\n",
    "    \n",
    "sl = json.dumps(sales)                                                     # Updating Sales File           \n",
    "fd = open('sales.json','w')\n",
    "fd.write(sl)\n",
    "fd.close()\n",
    "\n",
    "print(\"------------------------------\")\n",
    "print(\"Data Updated in Sales File!\")\n",
    "\n",
    "js = json.dumps(records)                                                           \n",
    "fd = open('record.json','w')                                              # Updating Inventory File\n",
    "fd.write(js)\n",
    "fd.close()\n",
    "\n",
    "print(\"Data Updated in Inventory File!\")    \n"
   ]
  },
  {
   "cell_type": "code",
   "execution_count": 5,
   "id": "cc7a4a74",
   "metadata": {},
   "outputs": [
    {
     "data": {
      "text/plain": [
       "{'1112401': {'name': 'Paper plates',\n",
       "  'Price': 50,\n",
       "  'Qty': 150,\n",
       "  'Size': 'Large',\n",
       "  'cgpa': 7},\n",
       " '1112402': {'name': 'ThemeHouse plates',\n",
       "  'Price': 195,\n",
       "  'Qty': 110,\n",
       "  'Size': 'Medium',\n",
       "  'cgpa': 8},\n",
       " '1112403': {'name': 'ThemeHouse plates',\n",
       "  'Price': 185,\n",
       "  'Qty': 150,\n",
       "  'Size': 'Large',\n",
       "  'cgpa': 7.4},\n",
       " '1112404': {'name': 'Silver Paper plates',\n",
       "  'Price': 206,\n",
       "  'Qty': 110,\n",
       "  'Size': 'Large',\n",
       "  'cgpa': 8},\n",
       " '1112405': {'name': 'Disposable silver Paper plates',\n",
       "  'Price': 299,\n",
       "  'Qty': 150,\n",
       "  'Size': 'Large',\n",
       "  'cgpa': 8},\n",
       " '1112501': {'name': 'Black Marker',\n",
       "  'Price': 50,\n",
       "  'Qty': 150,\n",
       "  'Size': 'Small',\n",
       "  'cgpa': 8},\n",
       " '1112502': {'name': 'Green Marker',\n",
       "  'Price': 50,\n",
       "  'Qty': 120,\n",
       "  'Size': 'Small',\n",
       "  'cgpa': 7.4},\n",
       " '1112503': {'name': 'Red Marker',\n",
       "  'Price': 50,\n",
       "  'Qty': 150,\n",
       "  'Size': 'Small',\n",
       "  'cgpa': 9},\n",
       " '1112504': {'name': 'Blue Marker',\n",
       "  'Price': 50,\n",
       "  'Qty': 120,\n",
       "  'Size': 'Small',\n",
       "  'cgpa': 8},\n",
       " '1112505': {'name': 'Highliter Marker',\n",
       "  'Price': 50,\n",
       "  'Qty': 150,\n",
       "  'Size': 'Small',\n",
       "  'cgpa': 8},\n",
       " '979340': {'name': 'Iron',\n",
       "  'Price': 455,\n",
       "  'Qty': 3,\n",
       "  'Size': 'Medium',\n",
       "  'cgpa': 9}}"
      ]
     },
     "execution_count": 5,
     "metadata": {},
     "output_type": "execute_result"
    }
   ],
   "source": [
    "records"
   ]
  },
  {
   "cell_type": "code",
   "execution_count": 6,
   "id": "ea2c32f8",
   "metadata": {},
   "outputs": [
    {
     "data": {
      "text/plain": [
       "{'1': {'prod_id': '979340',\n",
       "  'time_pr': 'Tue Sep 14 13:39:16 2021',\n",
       "  'bill': 3185,\n",
       "  'Qty': 7,\n",
       "  'Price': 455,\n",
       "  'pr_name': 'Iron'}}"
      ]
     },
     "execution_count": 6,
     "metadata": {},
     "output_type": "execute_result"
    }
   ],
   "source": [
    "sales"
   ]
  },
  {
   "cell_type": "markdown",
   "id": "8e1bb82e",
   "metadata": {},
   "source": [
    "## Thank you"
   ]
  }
 ],
 "metadata": {
  "kernelspec": {
   "display_name": "Python 3",
   "language": "python",
   "name": "python3"
  },
  "language_info": {
   "codemirror_mode": {
    "name": "ipython",
    "version": 3
   },
   "file_extension": ".py",
   "mimetype": "text/x-python",
   "name": "python",
   "nbconvert_exporter": "python",
   "pygments_lexer": "ipython3",
   "version": "3.8.8"
  }
 },
 "nbformat": 4,
 "nbformat_minor": 5
}
