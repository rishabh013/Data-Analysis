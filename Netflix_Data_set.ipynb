{
  "nbformat": 4,
  "nbformat_minor": 0,
  "metadata": {
    "colab": {
      "name": "Netflix Data set",
      "provenance": []
    },
    "kernelspec": {
      "name": "python3",
      "display_name": "Python 3"
    },
    "language_info": {
      "name": "python"
    }
  },
  "cells": [
    {
      "cell_type": "code",
      "metadata": {
        "id": "Nyb-xEIKlnkf"
      },
      "source": [
        "import pandas as pd"
      ],
      "execution_count": 1,
      "outputs": []
    },
    {
      "cell_type": "code",
      "metadata": {
        "colab": {
          "base_uri": "https://localhost:8080/",
          "height": 793
        },
        "id": "rObGlmvJl3j9",
        "outputId": "2cc01f1f-c18a-4ff2-ebd7-60b89c02c6c6"
      },
      "source": [
        "data = pd.read_csv(\"Netflix Dataset.csv\")\n",
        "data"
      ],
      "execution_count": 2,
      "outputs": [
        {
          "output_type": "execute_result",
          "data": {
            "text/html": [
              "<div>\n",
              "<style scoped>\n",
              "    .dataframe tbody tr th:only-of-type {\n",
              "        vertical-align: middle;\n",
              "    }\n",
              "\n",
              "    .dataframe tbody tr th {\n",
              "        vertical-align: top;\n",
              "    }\n",
              "\n",
              "    .dataframe thead th {\n",
              "        text-align: right;\n",
              "    }\n",
              "</style>\n",
              "<table border=\"1\" class=\"dataframe\">\n",
              "  <thead>\n",
              "    <tr style=\"text-align: right;\">\n",
              "      <th></th>\n",
              "      <th>Show_Id</th>\n",
              "      <th>Category</th>\n",
              "      <th>Title</th>\n",
              "      <th>Director</th>\n",
              "      <th>Cast</th>\n",
              "      <th>Country</th>\n",
              "      <th>Release_Date</th>\n",
              "      <th>Rating</th>\n",
              "      <th>Duration</th>\n",
              "      <th>Type</th>\n",
              "      <th>Description</th>\n",
              "    </tr>\n",
              "  </thead>\n",
              "  <tbody>\n",
              "    <tr>\n",
              "      <th>0</th>\n",
              "      <td>s1</td>\n",
              "      <td>TV Show</td>\n",
              "      <td>3%</td>\n",
              "      <td>NaN</td>\n",
              "      <td>João Miguel, Bianca Comparato, Michel Gomes, R...</td>\n",
              "      <td>Brazil</td>\n",
              "      <td>August 14, 2020</td>\n",
              "      <td>TV-MA</td>\n",
              "      <td>4 Seasons</td>\n",
              "      <td>International TV Shows, TV Dramas, TV Sci-Fi &amp;...</td>\n",
              "      <td>In a future where the elite inhabit an island ...</td>\n",
              "    </tr>\n",
              "    <tr>\n",
              "      <th>1</th>\n",
              "      <td>s2</td>\n",
              "      <td>Movie</td>\n",
              "      <td>07:19</td>\n",
              "      <td>Jorge Michel Grau</td>\n",
              "      <td>Demián Bichir, Héctor Bonilla, Oscar Serrano, ...</td>\n",
              "      <td>Mexico</td>\n",
              "      <td>December 23, 2016</td>\n",
              "      <td>TV-MA</td>\n",
              "      <td>93 min</td>\n",
              "      <td>Dramas, International Movies</td>\n",
              "      <td>After a devastating earthquake hits Mexico Cit...</td>\n",
              "    </tr>\n",
              "    <tr>\n",
              "      <th>2</th>\n",
              "      <td>s3</td>\n",
              "      <td>Movie</td>\n",
              "      <td>23:59</td>\n",
              "      <td>Gilbert Chan</td>\n",
              "      <td>Tedd Chan, Stella Chung, Henley Hii, Lawrence ...</td>\n",
              "      <td>Singapore</td>\n",
              "      <td>December 20, 2018</td>\n",
              "      <td>R</td>\n",
              "      <td>78 min</td>\n",
              "      <td>Horror Movies, International Movies</td>\n",
              "      <td>When an army recruit is found dead, his fellow...</td>\n",
              "    </tr>\n",
              "    <tr>\n",
              "      <th>3</th>\n",
              "      <td>s4</td>\n",
              "      <td>Movie</td>\n",
              "      <td>9</td>\n",
              "      <td>Shane Acker</td>\n",
              "      <td>Elijah Wood, John C. Reilly, Jennifer Connelly...</td>\n",
              "      <td>United States</td>\n",
              "      <td>November 16, 2017</td>\n",
              "      <td>PG-13</td>\n",
              "      <td>80 min</td>\n",
              "      <td>Action &amp; Adventure, Independent Movies, Sci-Fi...</td>\n",
              "      <td>In a postapocalyptic world, rag-doll robots hi...</td>\n",
              "    </tr>\n",
              "    <tr>\n",
              "      <th>4</th>\n",
              "      <td>s5</td>\n",
              "      <td>Movie</td>\n",
              "      <td>21</td>\n",
              "      <td>Robert Luketic</td>\n",
              "      <td>Jim Sturgess, Kevin Spacey, Kate Bosworth, Aar...</td>\n",
              "      <td>United States</td>\n",
              "      <td>January 1, 2020</td>\n",
              "      <td>PG-13</td>\n",
              "      <td>123 min</td>\n",
              "      <td>Dramas</td>\n",
              "      <td>A brilliant group of students become card-coun...</td>\n",
              "    </tr>\n",
              "    <tr>\n",
              "      <th>...</th>\n",
              "      <td>...</td>\n",
              "      <td>...</td>\n",
              "      <td>...</td>\n",
              "      <td>...</td>\n",
              "      <td>...</td>\n",
              "      <td>...</td>\n",
              "      <td>...</td>\n",
              "      <td>...</td>\n",
              "      <td>...</td>\n",
              "      <td>...</td>\n",
              "      <td>...</td>\n",
              "    </tr>\n",
              "    <tr>\n",
              "      <th>7784</th>\n",
              "      <td>s7783</td>\n",
              "      <td>Movie</td>\n",
              "      <td>Zozo</td>\n",
              "      <td>Josef Fares</td>\n",
              "      <td>Imad Creidi, Antoinette Turk, Elias Gergi, Car...</td>\n",
              "      <td>Sweden, Czech Republic, United Kingdom, Denmar...</td>\n",
              "      <td>October 19, 2020</td>\n",
              "      <td>TV-MA</td>\n",
              "      <td>99 min</td>\n",
              "      <td>Dramas, International Movies</td>\n",
              "      <td>When Lebanon's Civil War deprives Zozo of his ...</td>\n",
              "    </tr>\n",
              "    <tr>\n",
              "      <th>7785</th>\n",
              "      <td>s7784</td>\n",
              "      <td>Movie</td>\n",
              "      <td>Zubaan</td>\n",
              "      <td>Mozez Singh</td>\n",
              "      <td>Vicky Kaushal, Sarah-Jane Dias, Raaghav Chanan...</td>\n",
              "      <td>India</td>\n",
              "      <td>March 2, 2019</td>\n",
              "      <td>TV-14</td>\n",
              "      <td>111 min</td>\n",
              "      <td>Dramas, International Movies, Music &amp; Musicals</td>\n",
              "      <td>A scrappy but poor boy worms his way into a ty...</td>\n",
              "    </tr>\n",
              "    <tr>\n",
              "      <th>7786</th>\n",
              "      <td>s7785</td>\n",
              "      <td>Movie</td>\n",
              "      <td>Zulu Man in Japan</td>\n",
              "      <td>NaN</td>\n",
              "      <td>Nasty C</td>\n",
              "      <td>NaN</td>\n",
              "      <td>September 25, 2020</td>\n",
              "      <td>TV-MA</td>\n",
              "      <td>44 min</td>\n",
              "      <td>Documentaries, International Movies, Music &amp; M...</td>\n",
              "      <td>In this documentary, South African rapper Nast...</td>\n",
              "    </tr>\n",
              "    <tr>\n",
              "      <th>7787</th>\n",
              "      <td>s7786</td>\n",
              "      <td>TV Show</td>\n",
              "      <td>Zumbo's Just Desserts</td>\n",
              "      <td>NaN</td>\n",
              "      <td>Adriano Zumbo, Rachel Khoo</td>\n",
              "      <td>Australia</td>\n",
              "      <td>October 31, 2020</td>\n",
              "      <td>TV-PG</td>\n",
              "      <td>1 Season</td>\n",
              "      <td>International TV Shows, Reality TV</td>\n",
              "      <td>Dessert wizard Adriano Zumbo looks for the nex...</td>\n",
              "    </tr>\n",
              "    <tr>\n",
              "      <th>7788</th>\n",
              "      <td>s7787</td>\n",
              "      <td>Movie</td>\n",
              "      <td>ZZ TOP: THAT LITTLE OL' BAND FROM TEXAS</td>\n",
              "      <td>Sam Dunn</td>\n",
              "      <td>NaN</td>\n",
              "      <td>United Kingdom, Canada, United States</td>\n",
              "      <td>March 1, 2020</td>\n",
              "      <td>TV-MA</td>\n",
              "      <td>90 min</td>\n",
              "      <td>Documentaries, Music &amp; Musicals</td>\n",
              "      <td>This documentary delves into the mystique behi...</td>\n",
              "    </tr>\n",
              "  </tbody>\n",
              "</table>\n",
              "<p>7789 rows × 11 columns</p>\n",
              "</div>"
            ],
            "text/plain": [
              "     Show_Id  ...                                        Description\n",
              "0         s1  ...  In a future where the elite inhabit an island ...\n",
              "1         s2  ...  After a devastating earthquake hits Mexico Cit...\n",
              "2         s3  ...  When an army recruit is found dead, his fellow...\n",
              "3         s4  ...  In a postapocalyptic world, rag-doll robots hi...\n",
              "4         s5  ...  A brilliant group of students become card-coun...\n",
              "...      ...  ...                                                ...\n",
              "7784   s7783  ...  When Lebanon's Civil War deprives Zozo of his ...\n",
              "7785   s7784  ...  A scrappy but poor boy worms his way into a ty...\n",
              "7786   s7785  ...  In this documentary, South African rapper Nast...\n",
              "7787   s7786  ...  Dessert wizard Adriano Zumbo looks for the nex...\n",
              "7788   s7787  ...  This documentary delves into the mystique behi...\n",
              "\n",
              "[7789 rows x 11 columns]"
            ]
          },
          "metadata": {},
          "execution_count": 2
        }
      ]
    },
    {
      "cell_type": "code",
      "metadata": {
        "colab": {
          "base_uri": "https://localhost:8080/"
        },
        "id": "XbuL_sjzmwZc",
        "outputId": "da48cfac-a8b4-47c0-b95a-d5d2a6b881ab"
      },
      "source": [
        "data.shape"
      ],
      "execution_count": 3,
      "outputs": [
        {
          "output_type": "execute_result",
          "data": {
            "text/plain": [
              "(7789, 11)"
            ]
          },
          "metadata": {},
          "execution_count": 3
        }
      ]
    },
    {
      "cell_type": "code",
      "metadata": {
        "colab": {
          "base_uri": "https://localhost:8080/"
        },
        "id": "1BzL19Qcmy54",
        "outputId": "ab84e6e6-43a7-4d91-8d4b-b8366f0c49a6"
      },
      "source": [
        "data.size         # show the total value(elements) in the data set"
      ],
      "execution_count": 4,
      "outputs": [
        {
          "output_type": "execute_result",
          "data": {
            "text/plain": [
              "85679"
            ]
          },
          "metadata": {},
          "execution_count": 4
        }
      ]
    },
    {
      "cell_type": "code",
      "metadata": {
        "colab": {
          "base_uri": "https://localhost:8080/"
        },
        "id": "iCt8FgXWnFBN",
        "outputId": "6ebf84b5-6816-44c7-ec63-17aae58385db"
      },
      "source": [
        "data.dtypes"
      ],
      "execution_count": 5,
      "outputs": [
        {
          "output_type": "execute_result",
          "data": {
            "text/plain": [
              "Show_Id         object\n",
              "Category        object\n",
              "Title           object\n",
              "Director        object\n",
              "Cast            object\n",
              "Country         object\n",
              "Release_Date    object\n",
              "Rating          object\n",
              "Duration        object\n",
              "Type            object\n",
              "Description     object\n",
              "dtype: object"
            ]
          },
          "metadata": {},
          "execution_count": 5
        }
      ]
    },
    {
      "cell_type": "markdown",
      "metadata": {
        "id": "5MKwwHypp8DZ"
      },
      "source": [
        "Task. 1) Is there any Duplicate Record in this dataset ? If yes, then remove the duplicate records."
      ]
    },
    {
      "cell_type": "markdown",
      "metadata": {
        "id": "Bqv_yCxYqCQ5"
      },
      "source": [
        "duplicate()"
      ]
    },
    {
      "cell_type": "code",
      "metadata": {
        "colab": {
          "base_uri": "https://localhost:8080/",
          "height": 162
        },
        "id": "kvspO-ZXqFgW",
        "outputId": "98947b0d-db71-4ed8-9ec1-595994117e0c"
      },
      "source": [
        "data[data.duplicated()]"
      ],
      "execution_count": 6,
      "outputs": [
        {
          "output_type": "execute_result",
          "data": {
            "text/html": [
              "<div>\n",
              "<style scoped>\n",
              "    .dataframe tbody tr th:only-of-type {\n",
              "        vertical-align: middle;\n",
              "    }\n",
              "\n",
              "    .dataframe tbody tr th {\n",
              "        vertical-align: top;\n",
              "    }\n",
              "\n",
              "    .dataframe thead th {\n",
              "        text-align: right;\n",
              "    }\n",
              "</style>\n",
              "<table border=\"1\" class=\"dataframe\">\n",
              "  <thead>\n",
              "    <tr style=\"text-align: right;\">\n",
              "      <th></th>\n",
              "      <th>Show_Id</th>\n",
              "      <th>Category</th>\n",
              "      <th>Title</th>\n",
              "      <th>Director</th>\n",
              "      <th>Cast</th>\n",
              "      <th>Country</th>\n",
              "      <th>Release_Date</th>\n",
              "      <th>Rating</th>\n",
              "      <th>Duration</th>\n",
              "      <th>Type</th>\n",
              "      <th>Description</th>\n",
              "    </tr>\n",
              "  </thead>\n",
              "  <tbody>\n",
              "    <tr>\n",
              "      <th>6300</th>\n",
              "      <td>s684</td>\n",
              "      <td>Movie</td>\n",
              "      <td>Backfire</td>\n",
              "      <td>Dave Patten</td>\n",
              "      <td>Black Deniro, Byron \"Squally\" Vinson, Dominic ...</td>\n",
              "      <td>United States</td>\n",
              "      <td>April 5, 2019</td>\n",
              "      <td>TV-MA</td>\n",
              "      <td>97 min</td>\n",
              "      <td>Dramas, Independent Movies, Thrillers</td>\n",
              "      <td>When two would-be robbers accidentally kill a ...</td>\n",
              "    </tr>\n",
              "    <tr>\n",
              "      <th>6622</th>\n",
              "      <td>s6621</td>\n",
              "      <td>Movie</td>\n",
              "      <td>The Lost Okoroshi</td>\n",
              "      <td>Abba T. Makama</td>\n",
              "      <td>Seun Ajayi, Judith Audu, Tope Tedela, Ifu Enna...</td>\n",
              "      <td>Nigeria</td>\n",
              "      <td>September 4, 2020</td>\n",
              "      <td>TV-MA</td>\n",
              "      <td>94 min</td>\n",
              "      <td>Comedies, Dramas, Independent Movies</td>\n",
              "      <td>A disillusioned security guard transforms into...</td>\n",
              "    </tr>\n",
              "  </tbody>\n",
              "</table>\n",
              "</div>"
            ],
            "text/plain": [
              "     Show_Id  ...                                        Description\n",
              "6300    s684  ...  When two would-be robbers accidentally kill a ...\n",
              "6622   s6621  ...  A disillusioned security guard transforms into...\n",
              "\n",
              "[2 rows x 11 columns]"
            ]
          },
          "metadata": {},
          "execution_count": 6
        }
      ]
    },
    {
      "cell_type": "code",
      "metadata": {
        "id": "Dxqux-gNqPK1"
      },
      "source": [
        "data.drop_duplicates(inplace = True)          # remove the duplicate value"
      ],
      "execution_count": 7,
      "outputs": []
    },
    {
      "cell_type": "markdown",
      "metadata": {
        "id": "Rou0jLWarGdV"
      },
      "source": [
        "Task. 2) Is there any Null Value present in any column ? Show with Heat-map."
      ]
    },
    {
      "cell_type": "code",
      "metadata": {
        "colab": {
          "base_uri": "https://localhost:8080/"
        },
        "id": "Nar2n6verIKo",
        "outputId": "e9e12a75-85d2-4845-906f-8d788593e327"
      },
      "source": [
        "data.isnull().sum()"
      ],
      "execution_count": 8,
      "outputs": [
        {
          "output_type": "execute_result",
          "data": {
            "text/plain": [
              "Show_Id            0\n",
              "Category           0\n",
              "Title              0\n",
              "Director        2388\n",
              "Cast             718\n",
              "Country          507\n",
              "Release_Date      10\n",
              "Rating             7\n",
              "Duration           0\n",
              "Type               0\n",
              "Description        0\n",
              "dtype: int64"
            ]
          },
          "metadata": {},
          "execution_count": 8
        }
      ]
    },
    {
      "cell_type": "code",
      "metadata": {
        "colab": {
          "base_uri": "https://localhost:8080/",
          "height": 345
        },
        "id": "YjINZUPerLJG",
        "outputId": "5670a0a0-6886-4dd0-efe0-d8ad971e5ba5"
      },
      "source": [
        "import seaborn as sns\n",
        "sns.heatmap(data.isnull())"
      ],
      "execution_count": 9,
      "outputs": [
        {
          "output_type": "execute_result",
          "data": {
            "text/plain": [
              "<matplotlib.axes._subplots.AxesSubplot at 0x7fc725e07c10>"
            ]
          },
          "metadata": {},
          "execution_count": 9
        },
        {
          "output_type": "display_data",
          "data": {
            "image/png": "[encoded data removed]",
            "text/plain": [
              "<Figure size 432x288 with 2 Axes>"
            ]
          },
          "metadata": {
            "needs_background": "light"
          }
        }
      ]
    },
    {
      "cell_type": "markdown",
      "metadata": {
        "id": "0Co0gU_7r8W3"
      },
      "source": [
        "Q. 1) For 'House of Cards', what is the Show Id and Who is the Director of this show ?"
      ]
    },
    {
      "cell_type": "code",
      "metadata": {
        "colab": {
          "base_uri": "https://localhost:8080/",
          "height": 210
        },
        "id": "4ybnJcC8sCC4",
        "outputId": "a8b68975-30e9-48f8-af90-e4816c4709e4"
      },
      "source": [
        "data.head(3)"
      ],
      "execution_count": 10,
      "outputs": [
        {
          "output_type": "execute_result",
          "data": {
            "text/html": [
              "<div>\n",
              "<style scoped>\n",
              "    .dataframe tbody tr th:only-of-type {\n",
              "        vertical-align: middle;\n",
              "    }\n",
              "\n",
              "    .dataframe tbody tr th {\n",
              "        vertical-align: top;\n",
              "    }\n",
              "\n",
              "    .dataframe thead th {\n",
              "        text-align: right;\n",
              "    }\n",
              "</style>\n",
              "<table border=\"1\" class=\"dataframe\">\n",
              "  <thead>\n",
              "    <tr style=\"text-align: right;\">\n",
              "      <th></th>\n",
              "      <th>Show_Id</th>\n",
              "      <th>Category</th>\n",
              "      <th>Title</th>\n",
              "      <th>Director</th>\n",
              "      <th>Cast</th>\n",
              "      <th>Country</th>\n",
              "      <th>Release_Date</th>\n",
              "      <th>Rating</th>\n",
              "      <th>Duration</th>\n",
              "      <th>Type</th>\n",
              "      <th>Description</th>\n",
              "    </tr>\n",
              "  </thead>\n",
              "  <tbody>\n",
              "    <tr>\n",
              "      <th>0</th>\n",
              "      <td>s1</td>\n",
              "      <td>TV Show</td>\n",
              "      <td>3%</td>\n",
              "      <td>NaN</td>\n",
              "      <td>João Miguel, Bianca Comparato, Michel Gomes, R...</td>\n",
              "      <td>Brazil</td>\n",
              "      <td>August 14, 2020</td>\n",
              "      <td>TV-MA</td>\n",
              "      <td>4 Seasons</td>\n",
              "      <td>International TV Shows, TV Dramas, TV Sci-Fi &amp;...</td>\n",
              "      <td>In a future where the elite inhabit an island ...</td>\n",
              "    </tr>\n",
              "    <tr>\n",
              "      <th>1</th>\n",
              "      <td>s2</td>\n",
              "      <td>Movie</td>\n",
              "      <td>07:19</td>\n",
              "      <td>Jorge Michel Grau</td>\n",
              "      <td>Demián Bichir, Héctor Bonilla, Oscar Serrano, ...</td>\n",
              "      <td>Mexico</td>\n",
              "      <td>December 23, 2016</td>\n",
              "      <td>TV-MA</td>\n",
              "      <td>93 min</td>\n",
              "      <td>Dramas, International Movies</td>\n",
              "      <td>After a devastating earthquake hits Mexico Cit...</td>\n",
              "    </tr>\n",
              "    <tr>\n",
              "      <th>2</th>\n",
              "      <td>s3</td>\n",
              "      <td>Movie</td>\n",
              "      <td>23:59</td>\n",
              "      <td>Gilbert Chan</td>\n",
              "      <td>Tedd Chan, Stella Chung, Henley Hii, Lawrence ...</td>\n",
              "      <td>Singapore</td>\n",
              "      <td>December 20, 2018</td>\n",
              "      <td>R</td>\n",
              "      <td>78 min</td>\n",
              "      <td>Horror Movies, International Movies</td>\n",
              "      <td>When an army recruit is found dead, his fellow...</td>\n",
              "    </tr>\n",
              "  </tbody>\n",
              "</table>\n",
              "</div>"
            ],
            "text/plain": [
              "  Show_Id  ...                                        Description\n",
              "0      s1  ...  In a future where the elite inhabit an island ...\n",
              "1      s2  ...  After a devastating earthquake hits Mexico Cit...\n",
              "2      s3  ...  When an army recruit is found dead, his fellow...\n",
              "\n",
              "[3 rows x 11 columns]"
            ]
          },
          "metadata": {},
          "execution_count": 10
        }
      ]
    },
    {
      "cell_type": "code",
      "metadata": {
        "colab": {
          "base_uri": "https://localhost:8080/",
          "height": 114
        },
        "id": "0G2YbjGXsKLX",
        "outputId": "d5d7fe16-f684-4556-d7b9-e9d544490582"
      },
      "source": [
        "data[data['Title'].isin(['House of Cards'])]"
      ],
      "execution_count": 11,
      "outputs": [
        {
          "output_type": "execute_result",
          "data": {
            "text/html": [
              "<div>\n",
              "<style scoped>\n",
              "    .dataframe tbody tr th:only-of-type {\n",
              "        vertical-align: middle;\n",
              "    }\n",
              "\n",
              "    .dataframe tbody tr th {\n",
              "        vertical-align: top;\n",
              "    }\n",
              "\n",
              "    .dataframe thead th {\n",
              "        text-align: right;\n",
              "    }\n",
              "</style>\n",
              "<table border=\"1\" class=\"dataframe\">\n",
              "  <thead>\n",
              "    <tr style=\"text-align: right;\">\n",
              "      <th></th>\n",
              "      <th>Show_Id</th>\n",
              "      <th>Category</th>\n",
              "      <th>Title</th>\n",
              "      <th>Director</th>\n",
              "      <th>Cast</th>\n",
              "      <th>Country</th>\n",
              "      <th>Release_Date</th>\n",
              "      <th>Rating</th>\n",
              "      <th>Duration</th>\n",
              "      <th>Type</th>\n",
              "      <th>Description</th>\n",
              "    </tr>\n",
              "  </thead>\n",
              "  <tbody>\n",
              "    <tr>\n",
              "      <th>2832</th>\n",
              "      <td>s2833</td>\n",
              "      <td>TV Show</td>\n",
              "      <td>House of Cards</td>\n",
              "      <td>Robin Wright, David Fincher, Gerald McRaney, J...</td>\n",
              "      <td>Kevin Spacey, Robin Wright, Kate Mara, Corey S...</td>\n",
              "      <td>United States</td>\n",
              "      <td>November 2, 2018</td>\n",
              "      <td>TV-MA</td>\n",
              "      <td>6 Seasons</td>\n",
              "      <td>TV Dramas, TV Thrillers</td>\n",
              "      <td>A ruthless politician will stop at nothing to ...</td>\n",
              "    </tr>\n",
              "  </tbody>\n",
              "</table>\n",
              "</div>"
            ],
            "text/plain": [
              "     Show_Id  ...                                        Description\n",
              "2832   s2833  ...  A ruthless politician will stop at nothing to ...\n",
              "\n",
              "[1 rows x 11 columns]"
            ]
          },
          "metadata": {},
          "execution_count": 11
        }
      ]
    },
    {
      "cell_type": "code",
      "metadata": {
        "colab": {
          "base_uri": "https://localhost:8080/",
          "height": 114
        },
        "id": "YecZh3SQsqWq",
        "outputId": "1aa3601d-48db-4c68-b864-eba6212540d3"
      },
      "source": [
        "data[data['Title'].str.contains('House of Cards')]"
      ],
      "execution_count": 12,
      "outputs": [
        {
          "output_type": "execute_result",
          "data": {
            "text/html": [
              "<div>\n",
              "<style scoped>\n",
              "    .dataframe tbody tr th:only-of-type {\n",
              "        vertical-align: middle;\n",
              "    }\n",
              "\n",
              "    .dataframe tbody tr th {\n",
              "        vertical-align: top;\n",
              "    }\n",
              "\n",
              "    .dataframe thead th {\n",
              "        text-align: right;\n",
              "    }\n",
              "</style>\n",
              "<table border=\"1\" class=\"dataframe\">\n",
              "  <thead>\n",
              "    <tr style=\"text-align: right;\">\n",
              "      <th></th>\n",
              "      <th>Show_Id</th>\n",
              "      <th>Category</th>\n",
              "      <th>Title</th>\n",
              "      <th>Director</th>\n",
              "      <th>Cast</th>\n",
              "      <th>Country</th>\n",
              "      <th>Release_Date</th>\n",
              "      <th>Rating</th>\n",
              "      <th>Duration</th>\n",
              "      <th>Type</th>\n",
              "      <th>Description</th>\n",
              "    </tr>\n",
              "  </thead>\n",
              "  <tbody>\n",
              "    <tr>\n",
              "      <th>2832</th>\n",
              "      <td>s2833</td>\n",
              "      <td>TV Show</td>\n",
              "      <td>House of Cards</td>\n",
              "      <td>Robin Wright, David Fincher, Gerald McRaney, J...</td>\n",
              "      <td>Kevin Spacey, Robin Wright, Kate Mara, Corey S...</td>\n",
              "      <td>United States</td>\n",
              "      <td>November 2, 2018</td>\n",
              "      <td>TV-MA</td>\n",
              "      <td>6 Seasons</td>\n",
              "      <td>TV Dramas, TV Thrillers</td>\n",
              "      <td>A ruthless politician will stop at nothing to ...</td>\n",
              "    </tr>\n",
              "  </tbody>\n",
              "</table>\n",
              "</div>"
            ],
            "text/plain": [
              "     Show_Id  ...                                        Description\n",
              "2832   s2833  ...  A ruthless politician will stop at nothing to ...\n",
              "\n",
              "[1 rows x 11 columns]"
            ]
          },
          "metadata": {},
          "execution_count": 12
        }
      ]
    },
    {
      "cell_type": "markdown",
      "metadata": {
        "id": "GQwJaTOHtgq6"
      },
      "source": [
        "Q. 2) In which year the highest number of the TV Shows & Movies were released ? Show with Bar Graph."
      ]
    },
    {
      "cell_type": "code",
      "metadata": {
        "colab": {
          "base_uri": "https://localhost:8080/",
          "height": 162
        },
        "id": "9bDNZ3F9t5Pu",
        "outputId": "95314727-c9a7-46b9-b6fd-f85307f7dd40"
      },
      "source": [
        "data.head(2)"
      ],
      "execution_count": 13,
      "outputs": [
        {
          "output_type": "execute_result",
          "data": {
            "text/html": [
              "<div>\n",
              "<style scoped>\n",
              "    .dataframe tbody tr th:only-of-type {\n",
              "        vertical-align: middle;\n",
              "    }\n",
              "\n",
              "    .dataframe tbody tr th {\n",
              "        vertical-align: top;\n",
              "    }\n",
              "\n",
              "    .dataframe thead th {\n",
              "        text-align: right;\n",
              "    }\n",
              "</style>\n",
              "<table border=\"1\" class=\"dataframe\">\n",
              "  <thead>\n",
              "    <tr style=\"text-align: right;\">\n",
              "      <th></th>\n",
              "      <th>Show_Id</th>\n",
              "      <th>Category</th>\n",
              "      <th>Title</th>\n",
              "      <th>Director</th>\n",
              "      <th>Cast</th>\n",
              "      <th>Country</th>\n",
              "      <th>Release_Date</th>\n",
              "      <th>Rating</th>\n",
              "      <th>Duration</th>\n",
              "      <th>Type</th>\n",
              "      <th>Description</th>\n",
              "    </tr>\n",
              "  </thead>\n",
              "  <tbody>\n",
              "    <tr>\n",
              "      <th>0</th>\n",
              "      <td>s1</td>\n",
              "      <td>TV Show</td>\n",
              "      <td>3%</td>\n",
              "      <td>NaN</td>\n",
              "      <td>João Miguel, Bianca Comparato, Michel Gomes, R...</td>\n",
              "      <td>Brazil</td>\n",
              "      <td>August 14, 2020</td>\n",
              "      <td>TV-MA</td>\n",
              "      <td>4 Seasons</td>\n",
              "      <td>International TV Shows, TV Dramas, TV Sci-Fi &amp;...</td>\n",
              "      <td>In a future where the elite inhabit an island ...</td>\n",
              "    </tr>\n",
              "    <tr>\n",
              "      <th>1</th>\n",
              "      <td>s2</td>\n",
              "      <td>Movie</td>\n",
              "      <td>07:19</td>\n",
              "      <td>Jorge Michel Grau</td>\n",
              "      <td>Demián Bichir, Héctor Bonilla, Oscar Serrano, ...</td>\n",
              "      <td>Mexico</td>\n",
              "      <td>December 23, 2016</td>\n",
              "      <td>TV-MA</td>\n",
              "      <td>93 min</td>\n",
              "      <td>Dramas, International Movies</td>\n",
              "      <td>After a devastating earthquake hits Mexico Cit...</td>\n",
              "    </tr>\n",
              "  </tbody>\n",
              "</table>\n",
              "</div>"
            ],
            "text/plain": [
              "  Show_Id  ...                                        Description\n",
              "0      s1  ...  In a future where the elite inhabit an island ...\n",
              "1      s2  ...  After a devastating earthquake hits Mexico Cit...\n",
              "\n",
              "[2 rows x 11 columns]"
            ]
          },
          "metadata": {},
          "execution_count": 13
        }
      ]
    },
    {
      "cell_type": "code",
      "metadata": {
        "colab": {
          "base_uri": "https://localhost:8080/"
        },
        "id": "0FPnG_bJtiBf",
        "outputId": "ccc0fce9-5e53-4963-e201-ba2e4ac080d3"
      },
      "source": [
        "data.dtypes"
      ],
      "execution_count": 14,
      "outputs": [
        {
          "output_type": "execute_result",
          "data": {
            "text/plain": [
              "Show_Id         object\n",
              "Category        object\n",
              "Title           object\n",
              "Director        object\n",
              "Cast            object\n",
              "Country         object\n",
              "Release_Date    object\n",
              "Rating          object\n",
              "Duration        object\n",
              "Type            object\n",
              "Description     object\n",
              "dtype: object"
            ]
          },
          "metadata": {},
          "execution_count": 14
        }
      ]
    },
    {
      "cell_type": "code",
      "metadata": {
        "id": "NTARg8f_tyJ8"
      },
      "source": [
        "##  to_datetime\n",
        "data[\"date_N\"] = pd.to_datetime(data['Release_Date'])    # create new column for date and column"
      ],
      "execution_count": 15,
      "outputs": []
    },
    {
      "cell_type": "code",
      "metadata": {
        "colab": {
          "base_uri": "https://localhost:8080/",
          "height": 179
        },
        "id": "4HcHb5K4ucU0",
        "outputId": "16d08e36-35de-41dd-9340-695ea64c6619"
      },
      "source": [
        "data.head(2)"
      ],
      "execution_count": 16,
      "outputs": [
        {
          "output_type": "execute_result",
          "data": {
            "text/html": [
              "<div>\n",
              "<style scoped>\n",
              "    .dataframe tbody tr th:only-of-type {\n",
              "        vertical-align: middle;\n",
              "    }\n",
              "\n",
              "    .dataframe tbody tr th {\n",
              "        vertical-align: top;\n",
              "    }\n",
              "\n",
              "    .dataframe thead th {\n",
              "        text-align: right;\n",
              "    }\n",
              "</style>\n",
              "<table border=\"1\" class=\"dataframe\">\n",
              "  <thead>\n",
              "    <tr style=\"text-align: right;\">\n",
              "      <th></th>\n",
              "      <th>Show_Id</th>\n",
              "      <th>Category</th>\n",
              "      <th>Title</th>\n",
              "      <th>Director</th>\n",
              "      <th>Cast</th>\n",
              "      <th>Country</th>\n",
              "      <th>Release_Date</th>\n",
              "      <th>Rating</th>\n",
              "      <th>Duration</th>\n",
              "      <th>Type</th>\n",
              "      <th>Description</th>\n",
              "      <th>date_N</th>\n",
              "    </tr>\n",
              "  </thead>\n",
              "  <tbody>\n",
              "    <tr>\n",
              "      <th>0</th>\n",
              "      <td>s1</td>\n",
              "      <td>TV Show</td>\n",
              "      <td>3%</td>\n",
              "      <td>NaN</td>\n",
              "      <td>João Miguel, Bianca Comparato, Michel Gomes, R...</td>\n",
              "      <td>Brazil</td>\n",
              "      <td>August 14, 2020</td>\n",
              "      <td>TV-MA</td>\n",
              "      <td>4 Seasons</td>\n",
              "      <td>International TV Shows, TV Dramas, TV Sci-Fi &amp;...</td>\n",
              "      <td>In a future where the elite inhabit an island ...</td>\n",
              "      <td>2020-08-14</td>\n",
              "    </tr>\n",
              "    <tr>\n",
              "      <th>1</th>\n",
              "      <td>s2</td>\n",
              "      <td>Movie</td>\n",
              "      <td>07:19</td>\n",
              "      <td>Jorge Michel Grau</td>\n",
              "      <td>Demián Bichir, Héctor Bonilla, Oscar Serrano, ...</td>\n",
              "      <td>Mexico</td>\n",
              "      <td>December 23, 2016</td>\n",
              "      <td>TV-MA</td>\n",
              "      <td>93 min</td>\n",
              "      <td>Dramas, International Movies</td>\n",
              "      <td>After a devastating earthquake hits Mexico Cit...</td>\n",
              "      <td>2016-12-23</td>\n",
              "    </tr>\n",
              "  </tbody>\n",
              "</table>\n",
              "</div>"
            ],
            "text/plain": [
              "  Show_Id  ...     date_N\n",
              "0      s1  ... 2020-08-14\n",
              "1      s2  ... 2016-12-23\n",
              "\n",
              "[2 rows x 12 columns]"
            ]
          },
          "metadata": {},
          "execution_count": 16
        }
      ]
    },
    {
      "cell_type": "code",
      "metadata": {
        "colab": {
          "base_uri": "https://localhost:8080/"
        },
        "id": "Yy9sfQLvuR4O",
        "outputId": "6a76c85f-2a30-467c-de54-85746813204f"
      },
      "source": [
        "data.dtypes"
      ],
      "execution_count": 17,
      "outputs": [
        {
          "output_type": "execute_result",
          "data": {
            "text/plain": [
              "Show_Id                 object\n",
              "Category                object\n",
              "Title                   object\n",
              "Director                object\n",
              "Cast                    object\n",
              "Country                 object\n",
              "Release_Date            object\n",
              "Rating                  object\n",
              "Duration                object\n",
              "Type                    object\n",
              "Description             object\n",
              "date_N          datetime64[ns]\n",
              "dtype: object"
            ]
          },
          "metadata": {},
          "execution_count": 17
        }
      ]
    },
    {
      "cell_type": "code",
      "metadata": {
        "colab": {
          "base_uri": "https://localhost:8080/"
        },
        "id": "JHoYeGwdvITv",
        "outputId": "f3caa82a-b661-43ad-daf6-fcf23d01f4c3"
      },
      "source": [
        "## dt.year.value_counts()\n",
        "data['date_N'].dt.year.value_counts()               # it count the occurance of all individual years in data Column."
      ],
      "execution_count": 18,
      "outputs": [
        {
          "output_type": "execute_result",
          "data": {
            "text/plain": [
              "2019.0    2153\n",
              "2020.0    2009\n",
              "2018.0    1685\n",
              "2017.0    1225\n",
              "2016.0     443\n",
              "2021.0     117\n",
              "2015.0      88\n",
              "2014.0      25\n",
              "2011.0      13\n",
              "2013.0      11\n",
              "2012.0       3\n",
              "2009.0       2\n",
              "2008.0       2\n",
              "2010.0       1\n",
              "Name: date_N, dtype: int64"
            ]
          },
          "metadata": {},
          "execution_count": 18
        }
      ]
    },
    {
      "cell_type": "code",
      "metadata": {
        "colab": {
          "base_uri": "https://localhost:8080/",
          "height": 307
        },
        "id": "Vubf9EQkvouR",
        "outputId": "62e4c951-2b2d-42f1-91a8-c7b6be3d47df"
      },
      "source": [
        "data['date_N'].dt.year.value_counts().plot(kind = 'bar')"
      ],
      "execution_count": 19,
      "outputs": [
        {
          "output_type": "execute_result",
          "data": {
            "text/plain": [
              "<matplotlib.axes._subplots.AxesSubplot at 0x7fc71d82cc50>"
            ]
          },
          "metadata": {},
          "execution_count": 19
        },
        {
          "output_type": "display_data",
          "data": {
            "image/png": "[encoded data removed]",
            "text/plain": [
              "<Figure size 432x288 with 1 Axes>"
            ]
          },
          "metadata": {
            "needs_background": "light"
          }
        }
      ]
    },
    {
      "cell_type": "markdown",
      "metadata": {
        "id": "yxKFKxk8wseu"
      },
      "source": [
        "Q. 3) How many Movies & TV Shows are in the dataset ? Show with Bar Graph."
      ]
    },
    {
      "cell_type": "code",
      "metadata": {
        "colab": {
          "base_uri": "https://localhost:8080/",
          "height": 227
        },
        "id": "0GGt-yX9wtz0",
        "outputId": "2f7fadfa-de34-42fa-82f1-f6d58890f904"
      },
      "source": [
        "data.head(3)"
      ],
      "execution_count": 20,
      "outputs": [
        {
          "output_type": "execute_result",
          "data": {
            "text/html": [
              "<div>\n",
              "<style scoped>\n",
              "    .dataframe tbody tr th:only-of-type {\n",
              "        vertical-align: middle;\n",
              "    }\n",
              "\n",
              "    .dataframe tbody tr th {\n",
              "        vertical-align: top;\n",
              "    }\n",
              "\n",
              "    .dataframe thead th {\n",
              "        text-align: right;\n",
              "    }\n",
              "</style>\n",
              "<table border=\"1\" class=\"dataframe\">\n",
              "  <thead>\n",
              "    <tr style=\"text-align: right;\">\n",
              "      <th></th>\n",
              "      <th>Show_Id</th>\n",
              "      <th>Category</th>\n",
              "      <th>Title</th>\n",
              "      <th>Director</th>\n",
              "      <th>Cast</th>\n",
              "      <th>Country</th>\n",
              "      <th>Release_Date</th>\n",
              "      <th>Rating</th>\n",
              "      <th>Duration</th>\n",
              "      <th>Type</th>\n",
              "      <th>Description</th>\n",
              "      <th>date_N</th>\n",
              "    </tr>\n",
              "  </thead>\n",
              "  <tbody>\n",
              "    <tr>\n",
              "      <th>0</th>\n",
              "      <td>s1</td>\n",
              "      <td>TV Show</td>\n",
              "      <td>3%</td>\n",
              "      <td>NaN</td>\n",
              "      <td>João Miguel, Bianca Comparato, Michel Gomes, R...</td>\n",
              "      <td>Brazil</td>\n",
              "      <td>August 14, 2020</td>\n",
              "      <td>TV-MA</td>\n",
              "      <td>4 Seasons</td>\n",
              "      <td>International TV Shows, TV Dramas, TV Sci-Fi &amp;...</td>\n",
              "      <td>In a future where the elite inhabit an island ...</td>\n",
              "      <td>2020-08-14</td>\n",
              "    </tr>\n",
              "    <tr>\n",
              "      <th>1</th>\n",
              "      <td>s2</td>\n",
              "      <td>Movie</td>\n",
              "      <td>07:19</td>\n",
              "      <td>Jorge Michel Grau</td>\n",
              "      <td>Demián Bichir, Héctor Bonilla, Oscar Serrano, ...</td>\n",
              "      <td>Mexico</td>\n",
              "      <td>December 23, 2016</td>\n",
              "      <td>TV-MA</td>\n",
              "      <td>93 min</td>\n",
              "      <td>Dramas, International Movies</td>\n",
              "      <td>After a devastating earthquake hits Mexico Cit...</td>\n",
              "      <td>2016-12-23</td>\n",
              "    </tr>\n",
              "    <tr>\n",
              "      <th>2</th>\n",
              "      <td>s3</td>\n",
              "      <td>Movie</td>\n",
              "      <td>23:59</td>\n",
              "      <td>Gilbert Chan</td>\n",
              "      <td>Tedd Chan, Stella Chung, Henley Hii, Lawrence ...</td>\n",
              "      <td>Singapore</td>\n",
              "      <td>December 20, 2018</td>\n",
              "      <td>R</td>\n",
              "      <td>78 min</td>\n",
              "      <td>Horror Movies, International Movies</td>\n",
              "      <td>When an army recruit is found dead, his fellow...</td>\n",
              "      <td>2018-12-20</td>\n",
              "    </tr>\n",
              "  </tbody>\n",
              "</table>\n",
              "</div>"
            ],
            "text/plain": [
              "  Show_Id  ...     date_N\n",
              "0      s1  ... 2020-08-14\n",
              "1      s2  ... 2016-12-23\n",
              "2      s3  ... 2018-12-20\n",
              "\n",
              "[3 rows x 12 columns]"
            ]
          },
          "metadata": {},
          "execution_count": 20
        }
      ]
    },
    {
      "cell_type": "code",
      "metadata": {
        "colab": {
          "base_uri": "https://localhost:8080/"
        },
        "id": "X43ZpsiGwy-y",
        "outputId": "07b65232-44e6-40c3-f636-1767b41558db"
      },
      "source": [
        "## data.groupby('Category').Category.count()\n",
        "data['Category'].value_counts()"
      ],
      "execution_count": 21,
      "outputs": [
        {
          "output_type": "execute_result",
          "data": {
            "text/plain": [
              "Movie      5377\n",
              "TV Show    2410\n",
              "Name: Category, dtype: int64"
            ]
          },
          "metadata": {},
          "execution_count": 21
        }
      ]
    },
    {
      "cell_type": "markdown",
      "metadata": {
        "id": "IWeQCnb1yiHl"
      },
      "source": [
        ""
      ]
    },
    {
      "cell_type": "code",
      "metadata": {
        "colab": {
          "base_uri": "https://localhost:8080/",
          "height": 315
        },
        "id": "KFyA7xaYxJuz",
        "outputId": "e5024610-a37d-416b-8c32-71215d65da5a"
      },
      "source": [
        "data['Category'].value_counts().plot(kind = \"bar\")"
      ],
      "execution_count": 22,
      "outputs": [
        {
          "output_type": "execute_result",
          "data": {
            "text/plain": [
              "<matplotlib.axes._subplots.AxesSubplot at 0x7fc71d769510>"
            ]
          },
          "metadata": {},
          "execution_count": 22
        },
        {
          "output_type": "display_data",
          "data": {
            "image/png": "[encoded data removed]",
            "text/plain": [
              "<Figure size 432x288 with 1 Axes>"
            ]
          },
          "metadata": {
            "needs_background": "light"
          }
        }
      ]
    },
    {
      "cell_type": "markdown",
      "metadata": {
        "id": "d-FRldVPyjrx"
      },
      "source": [
        "Q. 4) Show all the Movies that were released in year 2000."
      ]
    },
    {
      "cell_type": "code",
      "metadata": {
        "colab": {
          "base_uri": "https://localhost:8080/",
          "height": 374
        },
        "id": "uAhSudHB1fT9",
        "outputId": "1419f238-9f58-4e0c-ca57-455154678893"
      },
      "source": [
        "data.head()"
      ],
      "execution_count": 23,
      "outputs": [
        {
          "output_type": "execute_result",
          "data": {
            "text/html": [
              "<div>\n",
              "<style scoped>\n",
              "    .dataframe tbody tr th:only-of-type {\n",
              "        vertical-align: middle;\n",
              "    }\n",
              "\n",
              "    .dataframe tbody tr th {\n",
              "        vertical-align: top;\n",
              "    }\n",
              "\n",
              "    .dataframe thead th {\n",
              "        text-align: right;\n",
              "    }\n",
              "</style>\n",
              "<table border=\"1\" class=\"dataframe\">\n",
              "  <thead>\n",
              "    <tr style=\"text-align: right;\">\n",
              "      <th></th>\n",
              "      <th>Show_Id</th>\n",
              "      <th>Category</th>\n",
              "      <th>Title</th>\n",
              "      <th>Director</th>\n",
              "      <th>Cast</th>\n",
              "      <th>Country</th>\n",
              "      <th>Release_Date</th>\n",
              "      <th>Rating</th>\n",
              "      <th>Duration</th>\n",
              "      <th>Type</th>\n",
              "      <th>Description</th>\n",
              "      <th>date_N</th>\n",
              "    </tr>\n",
              "  </thead>\n",
              "  <tbody>\n",
              "    <tr>\n",
              "      <th>0</th>\n",
              "      <td>s1</td>\n",
              "      <td>TV Show</td>\n",
              "      <td>3%</td>\n",
              "      <td>NaN</td>\n",
              "      <td>João Miguel, Bianca Comparato, Michel Gomes, R...</td>\n",
              "      <td>Brazil</td>\n",
              "      <td>August 14, 2020</td>\n",
              "      <td>TV-MA</td>\n",
              "      <td>4 Seasons</td>\n",
              "      <td>International TV Shows, TV Dramas, TV Sci-Fi &amp;...</td>\n",
              "      <td>In a future where the elite inhabit an island ...</td>\n",
              "      <td>2020-08-14</td>\n",
              "    </tr>\n",
              "    <tr>\n",
              "      <th>1</th>\n",
              "      <td>s2</td>\n",
              "      <td>Movie</td>\n",
              "      <td>07:19</td>\n",
              "      <td>Jorge Michel Grau</td>\n",
              "      <td>Demián Bichir, Héctor Bonilla, Oscar Serrano, ...</td>\n",
              "      <td>Mexico</td>\n",
              "      <td>December 23, 2016</td>\n",
              "      <td>TV-MA</td>\n",
              "      <td>93 min</td>\n",
              "      <td>Dramas, International Movies</td>\n",
              "      <td>After a devastating earthquake hits Mexico Cit...</td>\n",
              "      <td>2016-12-23</td>\n",
              "    </tr>\n",
              "    <tr>\n",
              "      <th>2</th>\n",
              "      <td>s3</td>\n",
              "      <td>Movie</td>\n",
              "      <td>23:59</td>\n",
              "      <td>Gilbert Chan</td>\n",
              "      <td>Tedd Chan, Stella Chung, Henley Hii, Lawrence ...</td>\n",
              "      <td>Singapore</td>\n",
              "      <td>December 20, 2018</td>\n",
              "      <td>R</td>\n",
              "      <td>78 min</td>\n",
              "      <td>Horror Movies, International Movies</td>\n",
              "      <td>When an army recruit is found dead, his fellow...</td>\n",
              "      <td>2018-12-20</td>\n",
              "    </tr>\n",
              "    <tr>\n",
              "      <th>3</th>\n",
              "      <td>s4</td>\n",
              "      <td>Movie</td>\n",
              "      <td>9</td>\n",
              "      <td>Shane Acker</td>\n",
              "      <td>Elijah Wood, John C. Reilly, Jennifer Connelly...</td>\n",
              "      <td>United States</td>\n",
              "      <td>November 16, 2017</td>\n",
              "      <td>PG-13</td>\n",
              "      <td>80 min</td>\n",
              "      <td>Action &amp; Adventure, Independent Movies, Sci-Fi...</td>\n",
              "      <td>In a postapocalyptic world, rag-doll robots hi...</td>\n",
              "      <td>2017-11-16</td>\n",
              "    </tr>\n",
              "    <tr>\n",
              "      <th>4</th>\n",
              "      <td>s5</td>\n",
              "      <td>Movie</td>\n",
              "      <td>21</td>\n",
              "      <td>Robert Luketic</td>\n",
              "      <td>Jim Sturgess, Kevin Spacey, Kate Bosworth, Aar...</td>\n",
              "      <td>United States</td>\n",
              "      <td>January 1, 2020</td>\n",
              "      <td>PG-13</td>\n",
              "      <td>123 min</td>\n",
              "      <td>Dramas</td>\n",
              "      <td>A brilliant group of students become card-coun...</td>\n",
              "      <td>2020-01-01</td>\n",
              "    </tr>\n",
              "  </tbody>\n",
              "</table>\n",
              "</div>"
            ],
            "text/plain": [
              "  Show_Id  ...     date_N\n",
              "0      s1  ... 2020-08-14\n",
              "1      s2  ... 2016-12-23\n",
              "2      s3  ... 2018-12-20\n",
              "3      s4  ... 2017-11-16\n",
              "4      s5  ... 2020-01-01\n",
              "\n",
              "[5 rows x 12 columns]"
            ]
          },
          "metadata": {},
          "execution_count": 23
        }
      ]
    },
    {
      "cell_type": "code",
      "metadata": {
        "id": "BHAIug511hLt"
      },
      "source": [
        "data['Year'] = data['date_N'].dt.year     # create new column for year only"
      ],
      "execution_count": 24,
      "outputs": []
    },
    {
      "cell_type": "code",
      "metadata": {
        "colab": {
          "base_uri": "https://localhost:8080/",
          "height": 179
        },
        "id": "ZMo1DW1i1yQf",
        "outputId": "0a707f93-74c5-45bb-b39f-4a705c2e2a50"
      },
      "source": [
        "data.head(2)"
      ],
      "execution_count": 25,
      "outputs": [
        {
          "output_type": "execute_result",
          "data": {
            "text/html": [
              "<div>\n",
              "<style scoped>\n",
              "    .dataframe tbody tr th:only-of-type {\n",
              "        vertical-align: middle;\n",
              "    }\n",
              "\n",
              "    .dataframe tbody tr th {\n",
              "        vertical-align: top;\n",
              "    }\n",
              "\n",
              "    .dataframe thead th {\n",
              "        text-align: right;\n",
              "    }\n",
              "</style>\n",
              "<table border=\"1\" class=\"dataframe\">\n",
              "  <thead>\n",
              "    <tr style=\"text-align: right;\">\n",
              "      <th></th>\n",
              "      <th>Show_Id</th>\n",
              "      <th>Category</th>\n",
              "      <th>Title</th>\n",
              "      <th>Director</th>\n",
              "      <th>Cast</th>\n",
              "      <th>Country</th>\n",
              "      <th>Release_Date</th>\n",
              "      <th>Rating</th>\n",
              "      <th>Duration</th>\n",
              "      <th>Type</th>\n",
              "      <th>Description</th>\n",
              "      <th>date_N</th>\n",
              "      <th>Year</th>\n",
              "    </tr>\n",
              "  </thead>\n",
              "  <tbody>\n",
              "    <tr>\n",
              "      <th>0</th>\n",
              "      <td>s1</td>\n",
              "      <td>TV Show</td>\n",
              "      <td>3%</td>\n",
              "      <td>NaN</td>\n",
              "      <td>João Miguel, Bianca Comparato, Michel Gomes, R...</td>\n",
              "      <td>Brazil</td>\n",
              "      <td>August 14, 2020</td>\n",
              "      <td>TV-MA</td>\n",
              "      <td>4 Seasons</td>\n",
              "      <td>International TV Shows, TV Dramas, TV Sci-Fi &amp;...</td>\n",
              "      <td>In a future where the elite inhabit an island ...</td>\n",
              "      <td>2020-08-14</td>\n",
              "      <td>2020.0</td>\n",
              "    </tr>\n",
              "    <tr>\n",
              "      <th>1</th>\n",
              "      <td>s2</td>\n",
              "      <td>Movie</td>\n",
              "      <td>07:19</td>\n",
              "      <td>Jorge Michel Grau</td>\n",
              "      <td>Demián Bichir, Héctor Bonilla, Oscar Serrano, ...</td>\n",
              "      <td>Mexico</td>\n",
              "      <td>December 23, 2016</td>\n",
              "      <td>TV-MA</td>\n",
              "      <td>93 min</td>\n",
              "      <td>Dramas, International Movies</td>\n",
              "      <td>After a devastating earthquake hits Mexico Cit...</td>\n",
              "      <td>2016-12-23</td>\n",
              "      <td>2016.0</td>\n",
              "    </tr>\n",
              "  </tbody>\n",
              "</table>\n",
              "</div>"
            ],
            "text/plain": [
              "  Show_Id Category  ...     date_N    Year\n",
              "0      s1  TV Show  ... 2020-08-14  2020.0\n",
              "1      s2    Movie  ... 2016-12-23  2016.0\n",
              "\n",
              "[2 rows x 13 columns]"
            ]
          },
          "metadata": {},
          "execution_count": 25
        }
      ]
    },
    {
      "cell_type": "code",
      "metadata": {
        "colab": {
          "base_uri": "https://localhost:8080/",
          "height": 997
        },
        "id": "4PeqpRH819ie",
        "outputId": "c7a32880-6a57-45a5-b43a-562f854eec6c"
      },
      "source": [
        "## Filtering\n",
        "data[(data[\"Category\"]==\"Movie\") & (data[\"Year\"]==2020)]"
      ],
      "execution_count": 26,
      "outputs": [
        {
          "output_type": "execute_result",
          "data": {
            "text/html": [
              "<div>\n",
              "<style scoped>\n",
              "    .dataframe tbody tr th:only-of-type {\n",
              "        vertical-align: middle;\n",
              "    }\n",
              "\n",
              "    .dataframe tbody tr th {\n",
              "        vertical-align: top;\n",
              "    }\n",
              "\n",
              "    .dataframe thead th {\n",
              "        text-align: right;\n",
              "    }\n",
              "</style>\n",
              "<table border=\"1\" class=\"dataframe\">\n",
              "  <thead>\n",
              "    <tr style=\"text-align: right;\">\n",
              "      <th></th>\n",
              "      <th>Show_Id</th>\n",
              "      <th>Category</th>\n",
              "      <th>Title</th>\n",
              "      <th>Director</th>\n",
              "      <th>Cast</th>\n",
              "      <th>Country</th>\n",
              "      <th>Release_Date</th>\n",
              "      <th>Rating</th>\n",
              "      <th>Duration</th>\n",
              "      <th>Type</th>\n",
              "      <th>Description</th>\n",
              "      <th>date_N</th>\n",
              "      <th>Year</th>\n",
              "    </tr>\n",
              "  </thead>\n",
              "  <tbody>\n",
              "    <tr>\n",
              "      <th>4</th>\n",
              "      <td>s5</td>\n",
              "      <td>Movie</td>\n",
              "      <td>21</td>\n",
              "      <td>Robert Luketic</td>\n",
              "      <td>Jim Sturgess, Kevin Spacey, Kate Bosworth, Aar...</td>\n",
              "      <td>United States</td>\n",
              "      <td>January 1, 2020</td>\n",
              "      <td>PG-13</td>\n",
              "      <td>123 min</td>\n",
              "      <td>Dramas</td>\n",
              "      <td>A brilliant group of students become card-coun...</td>\n",
              "      <td>2020-01-01</td>\n",
              "      <td>2020.0</td>\n",
              "    </tr>\n",
              "    <tr>\n",
              "      <th>6</th>\n",
              "      <td>s7</td>\n",
              "      <td>Movie</td>\n",
              "      <td>122</td>\n",
              "      <td>Yasir Al Yasiri</td>\n",
              "      <td>Amina Khalil, Ahmed Dawood, Tarek Lotfy, Ahmed...</td>\n",
              "      <td>Egypt</td>\n",
              "      <td>June 1, 2020</td>\n",
              "      <td>TV-MA</td>\n",
              "      <td>95 min</td>\n",
              "      <td>Horror Movies, International Movies</td>\n",
              "      <td>After an awful accident, a couple admitted to ...</td>\n",
              "      <td>2020-06-01</td>\n",
              "      <td>2020.0</td>\n",
              "    </tr>\n",
              "    <tr>\n",
              "      <th>14</th>\n",
              "      <td>s15</td>\n",
              "      <td>Movie</td>\n",
              "      <td>3022</td>\n",
              "      <td>John Suits</td>\n",
              "      <td>Omar Epps, Kate Walsh, Miranda Cosgrove, Angus...</td>\n",
              "      <td>United States</td>\n",
              "      <td>March 19, 2020</td>\n",
              "      <td>R</td>\n",
              "      <td>91 min</td>\n",
              "      <td>Independent Movies, Sci-Fi &amp; Fantasy, Thrillers</td>\n",
              "      <td>Stranded when the Earth is suddenly destroyed ...</td>\n",
              "      <td>2020-03-19</td>\n",
              "      <td>2020.0</td>\n",
              "    </tr>\n",
              "    <tr>\n",
              "      <th>27</th>\n",
              "      <td>s28</td>\n",
              "      <td>Movie</td>\n",
              "      <td>#Alive</td>\n",
              "      <td>Cho Il</td>\n",
              "      <td>Yoo Ah-in, Park Shin-hye</td>\n",
              "      <td>South Korea</td>\n",
              "      <td>September 8, 2020</td>\n",
              "      <td>TV-MA</td>\n",
              "      <td>99 min</td>\n",
              "      <td>Horror Movies, International Movies, Thrillers</td>\n",
              "      <td>As a grisly virus rampages a city, a lone man ...</td>\n",
              "      <td>2020-09-08</td>\n",
              "      <td>2020.0</td>\n",
              "    </tr>\n",
              "    <tr>\n",
              "      <th>28</th>\n",
              "      <td>s29</td>\n",
              "      <td>Movie</td>\n",
              "      <td>#AnneFrank - Parallel Stories</td>\n",
              "      <td>Sabina Fedeli, Anna Migotto</td>\n",
              "      <td>Helen Mirren, Gengher Gatti</td>\n",
              "      <td>Italy</td>\n",
              "      <td>July 1, 2020</td>\n",
              "      <td>TV-14</td>\n",
              "      <td>95 min</td>\n",
              "      <td>Documentaries, International Movies</td>\n",
              "      <td>Through her diary, Anne Frank's story is retol...</td>\n",
              "      <td>2020-07-01</td>\n",
              "      <td>2020.0</td>\n",
              "    </tr>\n",
              "    <tr>\n",
              "      <th>...</th>\n",
              "      <td>...</td>\n",
              "      <td>...</td>\n",
              "      <td>...</td>\n",
              "      <td>...</td>\n",
              "      <td>...</td>\n",
              "      <td>...</td>\n",
              "      <td>...</td>\n",
              "      <td>...</td>\n",
              "      <td>...</td>\n",
              "      <td>...</td>\n",
              "      <td>...</td>\n",
              "      <td>...</td>\n",
              "      <td>...</td>\n",
              "    </tr>\n",
              "    <tr>\n",
              "      <th>7762</th>\n",
              "      <td>s7761</td>\n",
              "      <td>Movie</td>\n",
              "      <td>Zaki Chan</td>\n",
              "      <td>Wael Ihsan</td>\n",
              "      <td>Ahmed Helmy, Yasmin Abdulaziz, Hassan Hosny, H...</td>\n",
              "      <td>Egypt</td>\n",
              "      <td>May 19, 2020</td>\n",
              "      <td>TV-PG</td>\n",
              "      <td>109 min</td>\n",
              "      <td>Comedies, International Movies, Romantic Movies</td>\n",
              "      <td>An unqualified young man has his work cut out ...</td>\n",
              "      <td>2020-05-19</td>\n",
              "      <td>2020.0</td>\n",
              "    </tr>\n",
              "    <tr>\n",
              "      <th>7783</th>\n",
              "      <td>s7782</td>\n",
              "      <td>Movie</td>\n",
              "      <td>Zoom</td>\n",
              "      <td>Peter Hewitt</td>\n",
              "      <td>Tim Allen, Courteney Cox, Chevy Chase, Kate Ma...</td>\n",
              "      <td>United States</td>\n",
              "      <td>January 11, 2020</td>\n",
              "      <td>PG</td>\n",
              "      <td>88 min</td>\n",
              "      <td>Children &amp; Family Movies, Comedies</td>\n",
              "      <td>Dragged from civilian life, a former superhero...</td>\n",
              "      <td>2020-01-11</td>\n",
              "      <td>2020.0</td>\n",
              "    </tr>\n",
              "    <tr>\n",
              "      <th>7784</th>\n",
              "      <td>s7783</td>\n",
              "      <td>Movie</td>\n",
              "      <td>Zozo</td>\n",
              "      <td>Josef Fares</td>\n",
              "      <td>Imad Creidi, Antoinette Turk, Elias Gergi, Car...</td>\n",
              "      <td>Sweden, Czech Republic, United Kingdom, Denmar...</td>\n",
              "      <td>October 19, 2020</td>\n",
              "      <td>TV-MA</td>\n",
              "      <td>99 min</td>\n",
              "      <td>Dramas, International Movies</td>\n",
              "      <td>When Lebanon's Civil War deprives Zozo of his ...</td>\n",
              "      <td>2020-10-19</td>\n",
              "      <td>2020.0</td>\n",
              "    </tr>\n",
              "    <tr>\n",
              "      <th>7786</th>\n",
              "      <td>s7785</td>\n",
              "      <td>Movie</td>\n",
              "      <td>Zulu Man in Japan</td>\n",
              "      <td>NaN</td>\n",
              "      <td>Nasty C</td>\n",
              "      <td>NaN</td>\n",
              "      <td>September 25, 2020</td>\n",
              "      <td>TV-MA</td>\n",
              "      <td>44 min</td>\n",
              "      <td>Documentaries, International Movies, Music &amp; M...</td>\n",
              "      <td>In this documentary, South African rapper Nast...</td>\n",
              "      <td>2020-09-25</td>\n",
              "      <td>2020.0</td>\n",
              "    </tr>\n",
              "    <tr>\n",
              "      <th>7788</th>\n",
              "      <td>s7787</td>\n",
              "      <td>Movie</td>\n",
              "      <td>ZZ TOP: THAT LITTLE OL' BAND FROM TEXAS</td>\n",
              "      <td>Sam Dunn</td>\n",
              "      <td>NaN</td>\n",
              "      <td>United Kingdom, Canada, United States</td>\n",
              "      <td>March 1, 2020</td>\n",
              "      <td>TV-MA</td>\n",
              "      <td>90 min</td>\n",
              "      <td>Documentaries, Music &amp; Musicals</td>\n",
              "      <td>This documentary delves into the mystique behi...</td>\n",
              "      <td>2020-03-01</td>\n",
              "      <td>2020.0</td>\n",
              "    </tr>\n",
              "  </tbody>\n",
              "</table>\n",
              "<p>1312 rows × 13 columns</p>\n",
              "</div>"
            ],
            "text/plain": [
              "     Show_Id Category  ...     date_N    Year\n",
              "4         s5    Movie  ... 2020-01-01  2020.0\n",
              "6         s7    Movie  ... 2020-06-01  2020.0\n",
              "14       s15    Movie  ... 2020-03-19  2020.0\n",
              "27       s28    Movie  ... 2020-09-08  2020.0\n",
              "28       s29    Movie  ... 2020-07-01  2020.0\n",
              "...      ...      ...  ...        ...     ...\n",
              "7762   s7761    Movie  ... 2020-05-19  2020.0\n",
              "7783   s7782    Movie  ... 2020-01-11  2020.0\n",
              "7784   s7783    Movie  ... 2020-10-19  2020.0\n",
              "7786   s7785    Movie  ... 2020-09-25  2020.0\n",
              "7788   s7787    Movie  ... 2020-03-01  2020.0\n",
              "\n",
              "[1312 rows x 13 columns]"
            ]
          },
          "metadata": {},
          "execution_count": 26
        }
      ]
    },
    {
      "cell_type": "markdown",
      "metadata": {
        "id": "c03AIlGO2wlH"
      },
      "source": [
        "Q. 5) Show only the Titles of all TV Shows that were released in India only."
      ]
    },
    {
      "cell_type": "code",
      "metadata": {
        "colab": {
          "base_uri": "https://localhost:8080/",
          "height": 244
        },
        "id": "CPV1eUaA2yW7",
        "outputId": "5e066f24-b380-49ae-e965-ce0fa9a0851f"
      },
      "source": [
        "data.head(3)"
      ],
      "execution_count": 27,
      "outputs": [
        {
          "output_type": "execute_result",
          "data": {
            "text/html": [
              "<div>\n",
              "<style scoped>\n",
              "    .dataframe tbody tr th:only-of-type {\n",
              "        vertical-align: middle;\n",
              "    }\n",
              "\n",
              "    .dataframe tbody tr th {\n",
              "        vertical-align: top;\n",
              "    }\n",
              "\n",
              "    .dataframe thead th {\n",
              "        text-align: right;\n",
              "    }\n",
              "</style>\n",
              "<table border=\"1\" class=\"dataframe\">\n",
              "  <thead>\n",
              "    <tr style=\"text-align: right;\">\n",
              "      <th></th>\n",
              "      <th>Show_Id</th>\n",
              "      <th>Category</th>\n",
              "      <th>Title</th>\n",
              "      <th>Director</th>\n",
              "      <th>Cast</th>\n",
              "      <th>Country</th>\n",
              "      <th>Release_Date</th>\n",
              "      <th>Rating</th>\n",
              "      <th>Duration</th>\n",
              "      <th>Type</th>\n",
              "      <th>Description</th>\n",
              "      <th>date_N</th>\n",
              "      <th>Year</th>\n",
              "    </tr>\n",
              "  </thead>\n",
              "  <tbody>\n",
              "    <tr>\n",
              "      <th>0</th>\n",
              "      <td>s1</td>\n",
              "      <td>TV Show</td>\n",
              "      <td>3%</td>\n",
              "      <td>NaN</td>\n",
              "      <td>João Miguel, Bianca Comparato, Michel Gomes, R...</td>\n",
              "      <td>Brazil</td>\n",
              "      <td>August 14, 2020</td>\n",
              "      <td>TV-MA</td>\n",
              "      <td>4 Seasons</td>\n",
              "      <td>International TV Shows, TV Dramas, TV Sci-Fi &amp;...</td>\n",
              "      <td>In a future where the elite inhabit an island ...</td>\n",
              "      <td>2020-08-14</td>\n",
              "      <td>2020.0</td>\n",
              "    </tr>\n",
              "    <tr>\n",
              "      <th>1</th>\n",
              "      <td>s2</td>\n",
              "      <td>Movie</td>\n",
              "      <td>07:19</td>\n",
              "      <td>Jorge Michel Grau</td>\n",
              "      <td>Demián Bichir, Héctor Bonilla, Oscar Serrano, ...</td>\n",
              "      <td>Mexico</td>\n",
              "      <td>December 23, 2016</td>\n",
              "      <td>TV-MA</td>\n",
              "      <td>93 min</td>\n",
              "      <td>Dramas, International Movies</td>\n",
              "      <td>After a devastating earthquake hits Mexico Cit...</td>\n",
              "      <td>2016-12-23</td>\n",
              "      <td>2016.0</td>\n",
              "    </tr>\n",
              "    <tr>\n",
              "      <th>2</th>\n",
              "      <td>s3</td>\n",
              "      <td>Movie</td>\n",
              "      <td>23:59</td>\n",
              "      <td>Gilbert Chan</td>\n",
              "      <td>Tedd Chan, Stella Chung, Henley Hii, Lawrence ...</td>\n",
              "      <td>Singapore</td>\n",
              "      <td>December 20, 2018</td>\n",
              "      <td>R</td>\n",
              "      <td>78 min</td>\n",
              "      <td>Horror Movies, International Movies</td>\n",
              "      <td>When an army recruit is found dead, his fellow...</td>\n",
              "      <td>2018-12-20</td>\n",
              "      <td>2018.0</td>\n",
              "    </tr>\n",
              "  </tbody>\n",
              "</table>\n",
              "</div>"
            ],
            "text/plain": [
              "  Show_Id Category  ...     date_N    Year\n",
              "0      s1  TV Show  ... 2020-08-14  2020.0\n",
              "1      s2    Movie  ... 2016-12-23  2016.0\n",
              "2      s3    Movie  ... 2018-12-20  2018.0\n",
              "\n",
              "[3 rows x 13 columns]"
            ]
          },
          "metadata": {},
          "execution_count": 27
        }
      ]
    },
    {
      "cell_type": "code",
      "metadata": {
        "colab": {
          "base_uri": "https://localhost:8080/",
          "height": 793
        },
        "id": "G0vypff024V0",
        "outputId": "d5c27b54-fbe3-4acf-ad11-fdaed6f6a271"
      },
      "source": [
        "# Filtering\n",
        "data[(data[\"Category\"] == \"TV Show\") & (data[\"Country\"] == \"India\")]"
      ],
      "execution_count": 28,
      "outputs": [
        {
          "output_type": "execute_result",
          "data": {
            "text/html": [
              "<div>\n",
              "<style scoped>\n",
              "    .dataframe tbody tr th:only-of-type {\n",
              "        vertical-align: middle;\n",
              "    }\n",
              "\n",
              "    .dataframe tbody tr th {\n",
              "        vertical-align: top;\n",
              "    }\n",
              "\n",
              "    .dataframe thead th {\n",
              "        text-align: right;\n",
              "    }\n",
              "</style>\n",
              "<table border=\"1\" class=\"dataframe\">\n",
              "  <thead>\n",
              "    <tr style=\"text-align: right;\">\n",
              "      <th></th>\n",
              "      <th>Show_Id</th>\n",
              "      <th>Category</th>\n",
              "      <th>Title</th>\n",
              "      <th>Director</th>\n",
              "      <th>Cast</th>\n",
              "      <th>Country</th>\n",
              "      <th>Release_Date</th>\n",
              "      <th>Rating</th>\n",
              "      <th>Duration</th>\n",
              "      <th>Type</th>\n",
              "      <th>Description</th>\n",
              "      <th>date_N</th>\n",
              "      <th>Year</th>\n",
              "    </tr>\n",
              "  </thead>\n",
              "  <tbody>\n",
              "    <tr>\n",
              "      <th>86</th>\n",
              "      <td>s87</td>\n",
              "      <td>TV Show</td>\n",
              "      <td>21 Sarfarosh: Saragarhi 1897</td>\n",
              "      <td>NaN</td>\n",
              "      <td>Luke Kenny, Mohit Raina, Mukul Dev</td>\n",
              "      <td>India</td>\n",
              "      <td>December 1, 2018</td>\n",
              "      <td>TV-14</td>\n",
              "      <td>1 Season</td>\n",
              "      <td>International TV Shows, TV Dramas</td>\n",
              "      <td>In one of history's greatest last stands, a ba...</td>\n",
              "      <td>2018-12-01</td>\n",
              "      <td>2018.0</td>\n",
              "    </tr>\n",
              "    <tr>\n",
              "      <th>132</th>\n",
              "      <td>s133</td>\n",
              "      <td>TV Show</td>\n",
              "      <td>7 (Seven)</td>\n",
              "      <td>Nizar Shafi</td>\n",
              "      <td>Rahman, Havish, Regina Cassandra, Nandita Swet...</td>\n",
              "      <td>India</td>\n",
              "      <td>July 30, 2019</td>\n",
              "      <td>TV-14</td>\n",
              "      <td>1 Season</td>\n",
              "      <td>TV Shows</td>\n",
              "      <td>Multiple women report their husbands as missin...</td>\n",
              "      <td>2019-07-30</td>\n",
              "      <td>2019.0</td>\n",
              "    </tr>\n",
              "    <tr>\n",
              "      <th>340</th>\n",
              "      <td>s341</td>\n",
              "      <td>TV Show</td>\n",
              "      <td>Agent Raghav</td>\n",
              "      <td>NaN</td>\n",
              "      <td>Sharad Kelkar, Aahana Kumra, Mahesh Manjrekar,...</td>\n",
              "      <td>India</td>\n",
              "      <td>April 15, 2017</td>\n",
              "      <td>TV-14</td>\n",
              "      <td>1 Season</td>\n",
              "      <td>Crime TV Shows, International TV Shows, TV Act...</td>\n",
              "      <td>A mix of brilliance, erudition and skill enabl...</td>\n",
              "      <td>2017-04-15</td>\n",
              "      <td>2017.0</td>\n",
              "    </tr>\n",
              "    <tr>\n",
              "      <th>364</th>\n",
              "      <td>s365</td>\n",
              "      <td>TV Show</td>\n",
              "      <td>Akbar Birbal</td>\n",
              "      <td>NaN</td>\n",
              "      <td>Kiku Sharda, Vishal Kotian, Delnaaz Irani</td>\n",
              "      <td>India</td>\n",
              "      <td>March 31, 2020</td>\n",
              "      <td>TV-G</td>\n",
              "      <td>1 Season</td>\n",
              "      <td>Kids' TV, TV Comedies, TV Dramas</td>\n",
              "      <td>From battles of wit to fights for justice, Emp...</td>\n",
              "      <td>2020-03-31</td>\n",
              "      <td>2020.0</td>\n",
              "    </tr>\n",
              "    <tr>\n",
              "      <th>533</th>\n",
              "      <td>s534</td>\n",
              "      <td>TV Show</td>\n",
              "      <td>Anjaan: Rural Myths</td>\n",
              "      <td>NaN</td>\n",
              "      <td>NaN</td>\n",
              "      <td>India</td>\n",
              "      <td>December 15, 2018</td>\n",
              "      <td>TV-14</td>\n",
              "      <td>1 Season</td>\n",
              "      <td>International TV Shows, TV Horror, TV Thrillers</td>\n",
              "      <td>Spine-chilling stories of malevolent spirits u...</td>\n",
              "      <td>2018-12-15</td>\n",
              "      <td>2018.0</td>\n",
              "    </tr>\n",
              "    <tr>\n",
              "      <th>...</th>\n",
              "      <td>...</td>\n",
              "      <td>...</td>\n",
              "      <td>...</td>\n",
              "      <td>...</td>\n",
              "      <td>...</td>\n",
              "      <td>...</td>\n",
              "      <td>...</td>\n",
              "      <td>...</td>\n",
              "      <td>...</td>\n",
              "      <td>...</td>\n",
              "      <td>...</td>\n",
              "      <td>...</td>\n",
              "      <td>...</td>\n",
              "    </tr>\n",
              "    <tr>\n",
              "      <th>6249</th>\n",
              "      <td>s6249</td>\n",
              "      <td>TV Show</td>\n",
              "      <td>The Creative Indians</td>\n",
              "      <td>NaN</td>\n",
              "      <td>NaN</td>\n",
              "      <td>India</td>\n",
              "      <td>August 24, 2020</td>\n",
              "      <td>TV-MA</td>\n",
              "      <td>2 Seasons</td>\n",
              "      <td>Docuseries, International TV Shows</td>\n",
              "      <td>From chefs and comedians to filmmakers and fas...</td>\n",
              "      <td>2020-08-24</td>\n",
              "      <td>2020.0</td>\n",
              "    </tr>\n",
              "    <tr>\n",
              "      <th>6400</th>\n",
              "      <td>s6399</td>\n",
              "      <td>TV Show</td>\n",
              "      <td>The Golden Years with Javed Akhtar</td>\n",
              "      <td>NaN</td>\n",
              "      <td>NaN</td>\n",
              "      <td>India</td>\n",
              "      <td>June 1, 2017</td>\n",
              "      <td>TV-G</td>\n",
              "      <td>1 Season</td>\n",
              "      <td>Docuseries, International TV Shows</td>\n",
              "      <td>Writer, poet and lyricist Javed Akhtar hosts t...</td>\n",
              "      <td>2017-06-01</td>\n",
              "      <td>2017.0</td>\n",
              "    </tr>\n",
              "    <tr>\n",
              "      <th>6469</th>\n",
              "      <td>s6468</td>\n",
              "      <td>TV Show</td>\n",
              "      <td>The House That Made Me</td>\n",
              "      <td>NaN</td>\n",
              "      <td>Vinay Pathak</td>\n",
              "      <td>India</td>\n",
              "      <td>March 31, 2017</td>\n",
              "      <td>TV-PG</td>\n",
              "      <td>3 Seasons</td>\n",
              "      <td>International TV Shows, Reality TV</td>\n",
              "      <td>With host Vinay Pathak, Indian celebrities ret...</td>\n",
              "      <td>2017-03-31</td>\n",
              "      <td>2017.0</td>\n",
              "    </tr>\n",
              "    <tr>\n",
              "      <th>7294</th>\n",
              "      <td>s7293</td>\n",
              "      <td>TV Show</td>\n",
              "      <td>Typewriter</td>\n",
              "      <td>NaN</td>\n",
              "      <td>Aarna Sharma, Aaryansh Malviya, Mikail Gandhi,...</td>\n",
              "      <td>India</td>\n",
              "      <td>July 19, 2019</td>\n",
              "      <td>TV-MA</td>\n",
              "      <td>1 Season</td>\n",
              "      <td>International TV Shows, TV Horror, TV Mysteries</td>\n",
              "      <td>Three young friends in Goa plan to search an o...</td>\n",
              "      <td>2019-07-19</td>\n",
              "      <td>2019.0</td>\n",
              "    </tr>\n",
              "    <tr>\n",
              "      <th>7705</th>\n",
              "      <td>s7704</td>\n",
              "      <td>TV Show</td>\n",
              "      <td>Yeh Meri Family</td>\n",
              "      <td>NaN</td>\n",
              "      <td>Vishesh Bansal, Mona Singh, Akarsh Khurana, Ah...</td>\n",
              "      <td>India</td>\n",
              "      <td>August 31, 2018</td>\n",
              "      <td>TV-PG</td>\n",
              "      <td>1 Season</td>\n",
              "      <td>International TV Shows, TV Comedies</td>\n",
              "      <td>In the summer of 1998, middle child Harshu bal...</td>\n",
              "      <td>2018-08-31</td>\n",
              "      <td>2018.0</td>\n",
              "    </tr>\n",
              "  </tbody>\n",
              "</table>\n",
              "<p>71 rows × 13 columns</p>\n",
              "</div>"
            ],
            "text/plain": [
              "     Show_Id Category  ...     date_N    Year\n",
              "86       s87  TV Show  ... 2018-12-01  2018.0\n",
              "132     s133  TV Show  ... 2019-07-30  2019.0\n",
              "340     s341  TV Show  ... 2017-04-15  2017.0\n",
              "364     s365  TV Show  ... 2020-03-31  2020.0\n",
              "533     s534  TV Show  ... 2018-12-15  2018.0\n",
              "...      ...      ...  ...        ...     ...\n",
              "6249   s6249  TV Show  ... 2020-08-24  2020.0\n",
              "6400   s6399  TV Show  ... 2017-06-01  2017.0\n",
              "6469   s6468  TV Show  ... 2017-03-31  2017.0\n",
              "7294   s7293  TV Show  ... 2019-07-19  2019.0\n",
              "7705   s7704  TV Show  ... 2018-08-31  2018.0\n",
              "\n",
              "[71 rows x 13 columns]"
            ]
          },
          "metadata": {},
          "execution_count": 28
        }
      ]
    },
    {
      "cell_type": "code",
      "metadata": {
        "id": "OHmMBDKi4B-j"
      },
      "source": [
        ""
      ],
      "execution_count": 28,
      "outputs": []
    }
  ]
}